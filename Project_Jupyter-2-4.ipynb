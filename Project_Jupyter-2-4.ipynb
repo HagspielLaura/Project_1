{
 "cells": [
  {
   "cell_type": "code",
   "execution_count": 1,
   "metadata": {},
   "outputs": [],
   "source": [
    "## Import packages\n",
    "\n",
    "import itertools\n",
    "import time\n",
    "import numpy as np\n",
    "import pandas as pd\n",
    "import matplotlib.pyplot as plt\n",
    "\n",
    "from sklearn import metrics\n",
    "from sklearn.cross_decomposition import PLSRegression, PLSSVD\n",
    "from sklearn.decomposition import PCA\n",
    "from sklearn.model_selection import GridSearchCV\n",
    "from sklearn.model_selection import KFold, cross_val_score, train_test_split, LeaveOneOut, ShuffleSplit, RepeatedKFold, cross_validate\n",
    "\n",
    "from sklearn.pipeline import Pipeline\n",
    "from sklearn.compose import ColumnTransformer\n",
    "from sklearn.preprocessing import PolynomialFeatures, LabelEncoder\n",
    "from sklearn.preprocessing import scale, StandardScaler, MinMaxScaler, PowerTransformer\n",
    "\n",
    "from sklearn.linear_model import Lasso, ElasticNet, LassoCV, ElasticNetCV\n",
    "from sklearn.linear_model import Ridge, RidgeCV\n",
    "from sklearn.kernel_ridge import KernelRidge\n",
    "from sklearn.linear_model import LinearRegression,  LogisticRegression\n",
    "from sklearn.svm import SVR, LinearSVR\n",
    "from sklearn.ensemble import BaggingRegressor, RandomForestRegressor, GradientBoostingRegressor, StackingRegressor, ExtraTreesRegressor\n",
    "from sklearn.neural_network import MLPRegressor\n",
    "\n",
    "# Importing the Packages:\n",
    "#import optuna  # import by `$ pip install optuna`\n",
    "#import pandas as pd\n",
    "#from sklearn import linear_model\n",
    "#from sklearn import ensemble\n",
    "#from sklearn import datasets\n",
    "#from sklearn import model_selection"
   ]
  },
  {
   "cell_type": "code",
   "execution_count": 2,
   "metadata": {},
   "outputs": [
    {
     "data": {
      "text/html": [
       "<div>\n",
       "<style scoped>\n",
       "    .dataframe tbody tr th:only-of-type {\n",
       "        vertical-align: middle;\n",
       "    }\n",
       "\n",
       "    .dataframe tbody tr th {\n",
       "        vertical-align: top;\n",
       "    }\n",
       "\n",
       "    .dataframe thead th {\n",
       "        text-align: right;\n",
       "    }\n",
       "</style>\n",
       "<table border=\"1\" class=\"dataframe\">\n",
       "  <thead>\n",
       "    <tr style=\"text-align: right;\">\n",
       "      <th></th>\n",
       "      <th>lnpercapitaconsumption</th>\n",
       "      <th>d_fuel_other</th>\n",
       "      <th>d_fuel_wood</th>\n",
       "      <th>d_fuel_coal</th>\n",
       "      <th>d_fuel_kerosene</th>\n",
       "      <th>d_fuel_gas</th>\n",
       "      <th>d_fuel_electric</th>\n",
       "      <th>d_fuel_none</th>\n",
       "      <th>d_water_other</th>\n",
       "      <th>d_water_river</th>\n",
       "      <th>...</th>\n",
       "      <th>d_lux_4</th>\n",
       "      <th>d_lux_5</th>\n",
       "      <th>training</th>\n",
       "      <th>percapitaconsumption</th>\n",
       "      <th>poor</th>\n",
       "      <th>h_hhsize</th>\n",
       "      <th>id_for_matlab</th>\n",
       "      <th>hhid</th>\n",
       "      <th>lncaphat_OLS</th>\n",
       "      <th>percapitahat_OLS</th>\n",
       "    </tr>\n",
       "  </thead>\n",
       "  <tbody>\n",
       "    <tr>\n",
       "      <th>0</th>\n",
       "      <td>NaN</td>\n",
       "      <td>0</td>\n",
       "      <td>1</td>\n",
       "      <td>0</td>\n",
       "      <td>0</td>\n",
       "      <td>0</td>\n",
       "      <td>0</td>\n",
       "      <td>0</td>\n",
       "      <td>0</td>\n",
       "      <td>1</td>\n",
       "      <td>...</td>\n",
       "      <td>0</td>\n",
       "      <td>0</td>\n",
       "      <td>0</td>\n",
       "      <td>NaN</td>\n",
       "      <td>0</td>\n",
       "      <td>1</td>\n",
       "      <td>1</td>\n",
       "      <td>233710511</td>\n",
       "      <td>5.246471</td>\n",
       "      <td>284.4243</td>\n",
       "    </tr>\n",
       "    <tr>\n",
       "      <th>1</th>\n",
       "      <td>NaN</td>\n",
       "      <td>0</td>\n",
       "      <td>0</td>\n",
       "      <td>0</td>\n",
       "      <td>0</td>\n",
       "      <td>1</td>\n",
       "      <td>0</td>\n",
       "      <td>0</td>\n",
       "      <td>0</td>\n",
       "      <td>0</td>\n",
       "      <td>...</td>\n",
       "      <td>0</td>\n",
       "      <td>0</td>\n",
       "      <td>0</td>\n",
       "      <td>NaN</td>\n",
       "      <td>0</td>\n",
       "      <td>3</td>\n",
       "      <td>2</td>\n",
       "      <td>295508011</td>\n",
       "      <td>6.129468</td>\n",
       "      <td>522.8840</td>\n",
       "    </tr>\n",
       "    <tr>\n",
       "      <th>2</th>\n",
       "      <td>NaN</td>\n",
       "      <td>0</td>\n",
       "      <td>0</td>\n",
       "      <td>0</td>\n",
       "      <td>0</td>\n",
       "      <td>1</td>\n",
       "      <td>0</td>\n",
       "      <td>0</td>\n",
       "      <td>0</td>\n",
       "      <td>0</td>\n",
       "      <td>...</td>\n",
       "      <td>0</td>\n",
       "      <td>0</td>\n",
       "      <td>0</td>\n",
       "      <td>NaN</td>\n",
       "      <td>0</td>\n",
       "      <td>4</td>\n",
       "      <td>3</td>\n",
       "      <td>257600211</td>\n",
       "      <td>6.665577</td>\n",
       "      <td>878.4961</td>\n",
       "    </tr>\n",
       "    <tr>\n",
       "      <th>3</th>\n",
       "      <td>NaN</td>\n",
       "      <td>0</td>\n",
       "      <td>0</td>\n",
       "      <td>0</td>\n",
       "      <td>0</td>\n",
       "      <td>1</td>\n",
       "      <td>0</td>\n",
       "      <td>0</td>\n",
       "      <td>0</td>\n",
       "      <td>0</td>\n",
       "      <td>...</td>\n",
       "      <td>0</td>\n",
       "      <td>0</td>\n",
       "      <td>0</td>\n",
       "      <td>NaN</td>\n",
       "      <td>1</td>\n",
       "      <td>9</td>\n",
       "      <td>4</td>\n",
       "      <td>198104311</td>\n",
       "      <td>6.088295</td>\n",
       "      <td>567.4705</td>\n",
       "    </tr>\n",
       "    <tr>\n",
       "      <th>4</th>\n",
       "      <td>NaN</td>\n",
       "      <td>0</td>\n",
       "      <td>1</td>\n",
       "      <td>0</td>\n",
       "      <td>0</td>\n",
       "      <td>0</td>\n",
       "      <td>0</td>\n",
       "      <td>0</td>\n",
       "      <td>0</td>\n",
       "      <td>1</td>\n",
       "      <td>...</td>\n",
       "      <td>0</td>\n",
       "      <td>0</td>\n",
       "      <td>0</td>\n",
       "      <td>NaN</td>\n",
       "      <td>1</td>\n",
       "      <td>8</td>\n",
       "      <td>5</td>\n",
       "      <td>24805311</td>\n",
       "      <td>5.008170</td>\n",
       "      <td>115.4929</td>\n",
       "    </tr>\n",
       "  </tbody>\n",
       "</table>\n",
       "<p>5 rows × 81 columns</p>\n",
       "</div>"
      ],
      "text/plain": [
       "   lnpercapitaconsumption  d_fuel_other  d_fuel_wood  d_fuel_coal  \\\n",
       "0                     NaN             0            1            0   \n",
       "1                     NaN             0            0            0   \n",
       "2                     NaN             0            0            0   \n",
       "3                     NaN             0            0            0   \n",
       "4                     NaN             0            1            0   \n",
       "\n",
       "   d_fuel_kerosene  d_fuel_gas  d_fuel_electric  d_fuel_none  d_water_other  \\\n",
       "0                0           0                0            0              0   \n",
       "1                0           1                0            0              0   \n",
       "2                0           1                0            0              0   \n",
       "3                0           1                0            0              0   \n",
       "4                0           0                0            0              0   \n",
       "\n",
       "   d_water_river  ...  d_lux_4  d_lux_5  training  percapitaconsumption  poor  \\\n",
       "0              1  ...        0        0         0                   NaN     0   \n",
       "1              0  ...        0        0         0                   NaN     0   \n",
       "2              0  ...        0        0         0                   NaN     0   \n",
       "3              0  ...        0        0         0                   NaN     1   \n",
       "4              1  ...        0        0         0                   NaN     1   \n",
       "\n",
       "   h_hhsize  id_for_matlab       hhid  lncaphat_OLS  percapitahat_OLS  \n",
       "0         1              1  233710511      5.246471          284.4243  \n",
       "1         3              2  295508011      6.129468          522.8840  \n",
       "2         4              3  257600211      6.665577          878.4961  \n",
       "3         9              4  198104311      6.088295          567.4705  \n",
       "4         8              5   24805311      5.008170          115.4929  \n",
       "\n",
       "[5 rows x 81 columns]"
      ]
     },
     "execution_count": 2,
     "metadata": {},
     "output_type": "execute_result"
    }
   ],
   "source": [
    "# Load data\n",
    "dataPath = './peru_for_ml_course.csv'\n",
    "peru = pd.read_csv(dataPath, sep =\",\")\n",
    "peru.head()"
   ]
  },
  {
   "cell_type": "code",
   "execution_count": 3,
   "metadata": {},
   "outputs": [
    {
     "data": {
      "text/html": [
       "<div>\n",
       "<style scoped>\n",
       "    .dataframe tbody tr th:only-of-type {\n",
       "        vertical-align: middle;\n",
       "    }\n",
       "\n",
       "    .dataframe tbody tr th {\n",
       "        vertical-align: top;\n",
       "    }\n",
       "\n",
       "    .dataframe thead th {\n",
       "        text-align: right;\n",
       "    }\n",
       "</style>\n",
       "<table border=\"1\" class=\"dataframe\">\n",
       "  <thead>\n",
       "    <tr style=\"text-align: right;\">\n",
       "      <th></th>\n",
       "      <th>lnpercapitaconsumption</th>\n",
       "      <th>d_fuel_other</th>\n",
       "      <th>d_fuel_wood</th>\n",
       "      <th>d_fuel_coal</th>\n",
       "      <th>d_fuel_kerosene</th>\n",
       "      <th>d_fuel_gas</th>\n",
       "      <th>d_fuel_electric</th>\n",
       "      <th>d_fuel_none</th>\n",
       "      <th>d_water_other</th>\n",
       "      <th>d_water_river</th>\n",
       "      <th>...</th>\n",
       "      <th>d_crowd_2to4</th>\n",
       "      <th>d_crowd_4to6</th>\n",
       "      <th>d_crowd_6plus</th>\n",
       "      <th>d_lux_0</th>\n",
       "      <th>d_lux_1</th>\n",
       "      <th>d_lux_2</th>\n",
       "      <th>d_lux_3</th>\n",
       "      <th>d_lux_4</th>\n",
       "      <th>d_lux_5</th>\n",
       "      <th>h_hhsize</th>\n",
       "    </tr>\n",
       "  </thead>\n",
       "  <tbody>\n",
       "    <tr>\n",
       "      <th>count</th>\n",
       "      <td>22674.000000</td>\n",
       "      <td>22674.000000</td>\n",
       "      <td>22674.000000</td>\n",
       "      <td>22674.000000</td>\n",
       "      <td>22674.000000</td>\n",
       "      <td>22674.000000</td>\n",
       "      <td>22674.000000</td>\n",
       "      <td>22674.000000</td>\n",
       "      <td>22674.000000</td>\n",
       "      <td>22674.000000</td>\n",
       "      <td>...</td>\n",
       "      <td>22674.000000</td>\n",
       "      <td>22674.000000</td>\n",
       "      <td>22674.000000</td>\n",
       "      <td>22674.000000</td>\n",
       "      <td>22674.000000</td>\n",
       "      <td>22674.000000</td>\n",
       "      <td>22674.000000</td>\n",
       "      <td>22674.000000</td>\n",
       "      <td>22674.000000</td>\n",
       "      <td>22674.000000</td>\n",
       "    </tr>\n",
       "    <tr>\n",
       "      <th>mean</th>\n",
       "      <td>5.849424</td>\n",
       "      <td>0.106730</td>\n",
       "      <td>0.312605</td>\n",
       "      <td>0.026021</td>\n",
       "      <td>0.004234</td>\n",
       "      <td>0.512878</td>\n",
       "      <td>0.007674</td>\n",
       "      <td>0.029858</td>\n",
       "      <td>0.039958</td>\n",
       "      <td>0.212622</td>\n",
       "      <td>...</td>\n",
       "      <td>0.202258</td>\n",
       "      <td>0.046705</td>\n",
       "      <td>0.019185</td>\n",
       "      <td>0.543706</td>\n",
       "      <td>0.193790</td>\n",
       "      <td>0.114184</td>\n",
       "      <td>0.068052</td>\n",
       "      <td>0.043839</td>\n",
       "      <td>0.036429</td>\n",
       "      <td>4.021081</td>\n",
       "    </tr>\n",
       "    <tr>\n",
       "      <th>std</th>\n",
       "      <td>0.745882</td>\n",
       "      <td>0.308777</td>\n",
       "      <td>0.463565</td>\n",
       "      <td>0.159201</td>\n",
       "      <td>0.064932</td>\n",
       "      <td>0.499845</td>\n",
       "      <td>0.087266</td>\n",
       "      <td>0.170199</td>\n",
       "      <td>0.195864</td>\n",
       "      <td>0.409172</td>\n",
       "      <td>...</td>\n",
       "      <td>0.401693</td>\n",
       "      <td>0.211012</td>\n",
       "      <td>0.137178</td>\n",
       "      <td>0.498097</td>\n",
       "      <td>0.395275</td>\n",
       "      <td>0.318041</td>\n",
       "      <td>0.251840</td>\n",
       "      <td>0.204741</td>\n",
       "      <td>0.187360</td>\n",
       "      <td>2.085648</td>\n",
       "    </tr>\n",
       "    <tr>\n",
       "      <th>min</th>\n",
       "      <td>2.110213</td>\n",
       "      <td>0.000000</td>\n",
       "      <td>0.000000</td>\n",
       "      <td>0.000000</td>\n",
       "      <td>0.000000</td>\n",
       "      <td>0.000000</td>\n",
       "      <td>0.000000</td>\n",
       "      <td>0.000000</td>\n",
       "      <td>0.000000</td>\n",
       "      <td>0.000000</td>\n",
       "      <td>...</td>\n",
       "      <td>0.000000</td>\n",
       "      <td>0.000000</td>\n",
       "      <td>0.000000</td>\n",
       "      <td>0.000000</td>\n",
       "      <td>0.000000</td>\n",
       "      <td>0.000000</td>\n",
       "      <td>0.000000</td>\n",
       "      <td>0.000000</td>\n",
       "      <td>0.000000</td>\n",
       "      <td>1.000000</td>\n",
       "    </tr>\n",
       "    <tr>\n",
       "      <th>25%</th>\n",
       "      <td>5.335076</td>\n",
       "      <td>0.000000</td>\n",
       "      <td>0.000000</td>\n",
       "      <td>0.000000</td>\n",
       "      <td>0.000000</td>\n",
       "      <td>0.000000</td>\n",
       "      <td>0.000000</td>\n",
       "      <td>0.000000</td>\n",
       "      <td>0.000000</td>\n",
       "      <td>0.000000</td>\n",
       "      <td>...</td>\n",
       "      <td>0.000000</td>\n",
       "      <td>0.000000</td>\n",
       "      <td>0.000000</td>\n",
       "      <td>0.000000</td>\n",
       "      <td>0.000000</td>\n",
       "      <td>0.000000</td>\n",
       "      <td>0.000000</td>\n",
       "      <td>0.000000</td>\n",
       "      <td>0.000000</td>\n",
       "      <td>2.000000</td>\n",
       "    </tr>\n",
       "    <tr>\n",
       "      <th>50%</th>\n",
       "      <td>5.870931</td>\n",
       "      <td>0.000000</td>\n",
       "      <td>0.000000</td>\n",
       "      <td>0.000000</td>\n",
       "      <td>0.000000</td>\n",
       "      <td>1.000000</td>\n",
       "      <td>0.000000</td>\n",
       "      <td>0.000000</td>\n",
       "      <td>0.000000</td>\n",
       "      <td>0.000000</td>\n",
       "      <td>...</td>\n",
       "      <td>0.000000</td>\n",
       "      <td>0.000000</td>\n",
       "      <td>0.000000</td>\n",
       "      <td>1.000000</td>\n",
       "      <td>0.000000</td>\n",
       "      <td>0.000000</td>\n",
       "      <td>0.000000</td>\n",
       "      <td>0.000000</td>\n",
       "      <td>0.000000</td>\n",
       "      <td>4.000000</td>\n",
       "    </tr>\n",
       "    <tr>\n",
       "      <th>75%</th>\n",
       "      <td>6.354526</td>\n",
       "      <td>0.000000</td>\n",
       "      <td>1.000000</td>\n",
       "      <td>0.000000</td>\n",
       "      <td>0.000000</td>\n",
       "      <td>1.000000</td>\n",
       "      <td>0.000000</td>\n",
       "      <td>0.000000</td>\n",
       "      <td>0.000000</td>\n",
       "      <td>0.000000</td>\n",
       "      <td>...</td>\n",
       "      <td>0.000000</td>\n",
       "      <td>0.000000</td>\n",
       "      <td>0.000000</td>\n",
       "      <td>1.000000</td>\n",
       "      <td>0.000000</td>\n",
       "      <td>0.000000</td>\n",
       "      <td>0.000000</td>\n",
       "      <td>0.000000</td>\n",
       "      <td>0.000000</td>\n",
       "      <td>5.000000</td>\n",
       "    </tr>\n",
       "    <tr>\n",
       "      <th>max</th>\n",
       "      <td>8.858051</td>\n",
       "      <td>1.000000</td>\n",
       "      <td>1.000000</td>\n",
       "      <td>1.000000</td>\n",
       "      <td>1.000000</td>\n",
       "      <td>1.000000</td>\n",
       "      <td>1.000000</td>\n",
       "      <td>1.000000</td>\n",
       "      <td>1.000000</td>\n",
       "      <td>1.000000</td>\n",
       "      <td>...</td>\n",
       "      <td>1.000000</td>\n",
       "      <td>1.000000</td>\n",
       "      <td>1.000000</td>\n",
       "      <td>1.000000</td>\n",
       "      <td>1.000000</td>\n",
       "      <td>1.000000</td>\n",
       "      <td>1.000000</td>\n",
       "      <td>1.000000</td>\n",
       "      <td>1.000000</td>\n",
       "      <td>18.000000</td>\n",
       "    </tr>\n",
       "  </tbody>\n",
       "</table>\n",
       "<p>8 rows × 74 columns</p>\n",
       "</div>"
      ],
      "text/plain": [
       "       lnpercapitaconsumption  d_fuel_other   d_fuel_wood   d_fuel_coal  \\\n",
       "count            22674.000000  22674.000000  22674.000000  22674.000000   \n",
       "mean                 5.849424      0.106730      0.312605      0.026021   \n",
       "std                  0.745882      0.308777      0.463565      0.159201   \n",
       "min                  2.110213      0.000000      0.000000      0.000000   \n",
       "25%                  5.335076      0.000000      0.000000      0.000000   \n",
       "50%                  5.870931      0.000000      0.000000      0.000000   \n",
       "75%                  6.354526      0.000000      1.000000      0.000000   \n",
       "max                  8.858051      1.000000      1.000000      1.000000   \n",
       "\n",
       "       d_fuel_kerosene    d_fuel_gas  d_fuel_electric   d_fuel_none  \\\n",
       "count     22674.000000  22674.000000     22674.000000  22674.000000   \n",
       "mean          0.004234      0.512878         0.007674      0.029858   \n",
       "std           0.064932      0.499845         0.087266      0.170199   \n",
       "min           0.000000      0.000000         0.000000      0.000000   \n",
       "25%           0.000000      0.000000         0.000000      0.000000   \n",
       "50%           0.000000      1.000000         0.000000      0.000000   \n",
       "75%           0.000000      1.000000         0.000000      0.000000   \n",
       "max           1.000000      1.000000         1.000000      1.000000   \n",
       "\n",
       "       d_water_other  d_water_river  ...  d_crowd_2to4  d_crowd_4to6  \\\n",
       "count   22674.000000   22674.000000  ...  22674.000000  22674.000000   \n",
       "mean        0.039958       0.212622  ...      0.202258      0.046705   \n",
       "std         0.195864       0.409172  ...      0.401693      0.211012   \n",
       "min         0.000000       0.000000  ...      0.000000      0.000000   \n",
       "25%         0.000000       0.000000  ...      0.000000      0.000000   \n",
       "50%         0.000000       0.000000  ...      0.000000      0.000000   \n",
       "75%         0.000000       0.000000  ...      0.000000      0.000000   \n",
       "max         1.000000       1.000000  ...      1.000000      1.000000   \n",
       "\n",
       "       d_crowd_6plus       d_lux_0       d_lux_1       d_lux_2       d_lux_3  \\\n",
       "count   22674.000000  22674.000000  22674.000000  22674.000000  22674.000000   \n",
       "mean        0.019185      0.543706      0.193790      0.114184      0.068052   \n",
       "std         0.137178      0.498097      0.395275      0.318041      0.251840   \n",
       "min         0.000000      0.000000      0.000000      0.000000      0.000000   \n",
       "25%         0.000000      0.000000      0.000000      0.000000      0.000000   \n",
       "50%         0.000000      1.000000      0.000000      0.000000      0.000000   \n",
       "75%         0.000000      1.000000      0.000000      0.000000      0.000000   \n",
       "max         1.000000      1.000000      1.000000      1.000000      1.000000   \n",
       "\n",
       "            d_lux_4       d_lux_5      h_hhsize  \n",
       "count  22674.000000  22674.000000  22674.000000  \n",
       "mean       0.043839      0.036429      4.021081  \n",
       "std        0.204741      0.187360      2.085648  \n",
       "min        0.000000      0.000000      1.000000  \n",
       "25%        0.000000      0.000000      2.000000  \n",
       "50%        0.000000      0.000000      4.000000  \n",
       "75%        0.000000      0.000000      5.000000  \n",
       "max        1.000000      1.000000     18.000000  \n",
       "\n",
       "[8 rows x 74 columns]"
      ]
     },
     "execution_count": 3,
     "metadata": {},
     "output_type": "execute_result"
    }
   ],
   "source": [
    "## Prepare training data\n",
    "peruTraining = peru.copy(deep=True)\n",
    "peruTraining.dropna(axis='index', inplace=True)\n",
    "peruTraining.drop(['id_for_matlab', 'poor', 'hhid', 'training', 'percapitaconsumption', 'lncaphat_OLS', 'percapitahat_OLS'], axis='columns', inplace=True)\n",
    "peruTraining.describe()"
   ]
  },
  {
   "cell_type": "code",
   "execution_count": 88,
   "metadata": {},
   "outputs": [
    {
     "ename": "SyntaxError",
     "evalue": "invalid syntax (<ipython-input-88-c1bbee16d5d4>, line 9)",
     "output_type": "error",
     "traceback": [
      "\u001b[0;36m  File \u001b[0;32m\"<ipython-input-88-c1bbee16d5d4>\"\u001b[0;36m, line \u001b[0;32m9\u001b[0m\n\u001b[0;31m    Currently, power_transform supports the Box-Cox transform and the Yeo-Johnson transform. The optimal parameter for stabilizing variance and minimizing skewness is estimated through maximum likelihood.\u001b[0m\n\u001b[0m                               ^\u001b[0m\n\u001b[0;31mSyntaxError\u001b[0m\u001b[0;31m:\u001b[0m invalid syntax\n"
     ]
    }
   ],
   "source": [
    "# Processes the data using the box-cox \n",
    "#scaling and normalizing\n",
    "# The power transform finds the optimal scaling factor to stabilize variance and\n",
    "# mimimize skewness through maximum likelihood estimation.\n",
    "\n",
    "# From the sci-kit learn manual pages\n",
    "# Power transforms are a family of parametric, monotonic transformations that are applied \n",
    "# to make data more Gaussian-like. \n",
    "# This is useful for modeling issues related to heteroscedasticity (non-constant variance), \n",
    "# or other situations where normality is desired.\n",
    "\n",
    "# By default, zero-mean, unit-variance normalization is applied to the transformed data.\n",
    "#  The optimal parameter for stabilizing variance and minimizing skewness is estimated through maximum likelihood.\n",
    "# Box-Cox requires input data to be strictly positive, while Yeo-Johnson supports both positive or negative data.\n",
    "\n",
    "\n",
    "preprocessor = ColumnTransformer(\n",
    "    transformers=[\n",
    "        ('scaler', PowerTransformer(method='box-cox'), ['h_hhsize'])], remainder='passthrough')"
   ]
  },
  {
   "cell_type": "markdown",
   "metadata": {},
   "source": [
    "# Winsorizing"
   ]
  },
  {
   "cell_type": "code",
   "execution_count": 5,
   "metadata": {},
   "outputs": [
    {
     "data": {
      "text/plain": [
       "(array([5.775e+03, 8.483e+03, 5.850e+03, 1.259e+03, 9.870e+02, 2.460e+02,\n",
       "        3.100e+01, 3.300e+01, 9.000e+00, 1.000e+00]),\n",
       " array([ 1. ,  2.7,  4.4,  6.1,  7.8,  9.5, 11.2, 12.9, 14.6, 16.3, 18. ]),\n",
       " <BarContainer object of 10 artists>)"
      ]
     },
     "execution_count": 5,
     "metadata": {},
     "output_type": "execute_result"
    },
    {
     "data": {
      "image/png": "[encoded data removed]",
      "text/plain": [
       "<Figure size 720x216 with 1 Axes>"
      ]
     },
     "metadata": {
      "needs_background": "light"
     },
     "output_type": "display_data"
    }
   ],
   "source": [
    "# h_hhid is the only non-dummy variable which coudl be winsorized\n",
    "peruTraining['h_hhsize'].value_counts(dropna=False).sort_index(ascending = True)\n",
    "fig = plt.figure(figsize=(10,3))\n",
    "ax1 = fig.add_subplot(1,2,1)\n",
    "ax1.boxplot(peruTraining['h_hhsize'])\n",
    "ax1.set_xlabel('h_hhsize')\n",
    "plt.hist(peruTraining['h_hhsize'])"
   ]
  },
  {
   "cell_type": "code",
   "execution_count": 83,
   "metadata": {},
   "outputs": [],
   "source": [
    "from scipy.stats.mstats import winsorize"
   ]
  },
  {
   "cell_type": "code",
   "execution_count": 84,
   "metadata": {},
   "outputs": [
    {
     "data": {
      "text/plain": [
       "(array([2552., 3223., 3840.,    0., 4643., 3583.,    0., 2267., 1259.,\n",
       "        1307.]),\n",
       " array([1. , 1.7, 2.4, 3.1, 3.8, 4.5, 5.2, 5.9, 6.6, 7.3, 8. ]),\n",
       " <BarContainer object of 10 artists>)"
      ]
     },
     "execution_count": 84,
     "metadata": {},
     "output_type": "execute_result"
    },
    {
     "data": {
      "image/png": "[encoded data removed]",
      "text/plain": [
       "<Figure size 720x216 with 1 Axes>"
      ]
     },
     "metadata": {
      "needs_background": "light"
     },
     "output_type": "display_data"
    }
   ],
   "source": [
    "#winsorization only on the higher end since lower end wouldn't make sense (min. 1 person per houshold)\n",
    "winsorize(a=peruTraining['h_hhsize'], limits=[0., 0.05], inplace=True)\n",
    "peruTraining['h_hhsize'].value_counts(dropna=False).sort_index(ascending = True)\n",
    "fig = plt.figure(figsize=(10,3))\n",
    "ax1 = fig.add_subplot(1,2,1)\n",
    "ax1.boxplot(peruTraining['h_hhsize'])\n",
    "ax1.set_xlabel('h_hhsize')\n",
    "plt.hist(peruTraining['h_hhsize'])"
   ]
  },
  {
   "cell_type": "markdown",
   "metadata": {},
   "source": [
    "# Prepare training data and Helper function"
   ]
  },
  {
   "cell_type": "code",
   "execution_count": 85,
   "metadata": {},
   "outputs": [
    {
     "name": "stdout",
     "output_type": "stream",
     "text": [
      "       d_fuel_other   d_fuel_wood   d_fuel_coal  d_fuel_kerosene  \\\n",
      "count  22674.000000  22674.000000  22674.000000     22674.000000   \n",
      "mean       0.106730      0.312605      0.026021         0.004234   \n",
      "std        0.308777      0.463565      0.159201         0.064932   \n",
      "min        0.000000      0.000000      0.000000         0.000000   \n",
      "25%        0.000000      0.000000      0.000000         0.000000   \n",
      "50%        0.000000      0.000000      0.000000         0.000000   \n",
      "75%        0.000000      1.000000      0.000000         0.000000   \n",
      "max        1.000000      1.000000      1.000000         1.000000   \n",
      "\n",
      "         d_fuel_gas  d_fuel_electric   d_fuel_none  d_water_other  \\\n",
      "count  22674.000000     22674.000000  22674.000000   22674.000000   \n",
      "mean       0.512878         0.007674      0.029858       0.039958   \n",
      "std        0.499845         0.087266      0.170199       0.195864   \n",
      "min        0.000000         0.000000      0.000000       0.000000   \n",
      "25%        0.000000         0.000000      0.000000       0.000000   \n",
      "50%        1.000000         0.000000      0.000000       0.000000   \n",
      "75%        1.000000         0.000000      0.000000       0.000000   \n",
      "max        1.000000         1.000000      1.000000       1.000000   \n",
      "\n",
      "       d_water_river  d_water_well  ...  d_crowd_2to4  d_crowd_4to6  \\\n",
      "count   22674.000000  22674.000000  ...  22674.000000  22674.000000   \n",
      "mean        0.212622      0.041678  ...      0.202258      0.046705   \n",
      "std         0.409172      0.199856  ...      0.401693      0.211012   \n",
      "min         0.000000      0.000000  ...      0.000000      0.000000   \n",
      "25%         0.000000      0.000000  ...      0.000000      0.000000   \n",
      "50%         0.000000      0.000000  ...      0.000000      0.000000   \n",
      "75%         0.000000      0.000000  ...      0.000000      0.000000   \n",
      "max         1.000000      1.000000  ...      1.000000      1.000000   \n",
      "\n",
      "       d_crowd_6plus       d_lux_0       d_lux_1       d_lux_2       d_lux_3  \\\n",
      "count   22674.000000  22674.000000  22674.000000  22674.000000  22674.000000   \n",
      "mean        0.019185      0.543706      0.193790      0.114184      0.068052   \n",
      "std         0.137178      0.498097      0.395275      0.318041      0.251840   \n",
      "min         0.000000      0.000000      0.000000      0.000000      0.000000   \n",
      "25%         0.000000      0.000000      0.000000      0.000000      0.000000   \n",
      "50%         0.000000      1.000000      0.000000      0.000000      0.000000   \n",
      "75%         0.000000      1.000000      0.000000      0.000000      0.000000   \n",
      "max         1.000000      1.000000      1.000000      1.000000      1.000000   \n",
      "\n",
      "            d_lux_4       d_lux_5      h_hhsize  \n",
      "count  22674.000000  22674.000000  22674.000000  \n",
      "mean       0.043839      0.036429      3.963835  \n",
      "std        0.204741      0.187360      1.931253  \n",
      "min        0.000000      0.000000      1.000000  \n",
      "25%        0.000000      0.000000      2.000000  \n",
      "50%        0.000000      0.000000      4.000000  \n",
      "75%        0.000000      0.000000      5.000000  \n",
      "max        1.000000      1.000000      8.000000  \n",
      "\n",
      "[8 rows x 73 columns]\n",
      "22674\n"
     ]
    }
   ],
   "source": [
    "X = peruTraining.drop('lnpercapitaconsumption', axis='columns')\n",
    "y = peruTraining['lnpercapitaconsumption']\n",
    "print(X.describe())\n",
    "print(len(y))"
   ]
  },
  {
   "cell_type": "code",
   "execution_count": 86,
   "metadata": {},
   "outputs": [],
   "source": [
    "scorers = ['neg_mean_squared_error', 'r2', 'max_error']\n",
    "\n",
    "def print_best_scores(name, model):\n",
    "  print(\"{name}: parameters:\", model.best_params_)\n",
    "  print(\"{name}: best score:\", model.best_score_)\n",
    "\n",
    "def print_all_metrics(name, y, predictions):\n",
    "  print(f\"{name} r2:\", metrics.r2_score(y, predictions))\n",
    "  print(f\"{name} explained_variance_score:\", metrics.explained_variance_score(y, predictions))\n",
    "  print(f\"{name} max_error:\", metrics.max_error(y, predictions))\n",
    "  print(f\"{name} mean absolute error:\", metrics.mean_absolute_error(y, predictions))\n",
    "  print(f\"{name} mean squared error:\", metrics.mean_squared_error(y, predictions))\n",
    "\n",
    "def print_model_metrics(name, model):\n",
    "  predictions = model.predict(X)\n",
    "  print_all_metrics(name, y, predictions)\n",
    "\n",
    "def getRegressor(model):\n",
    "  return model.named_steps['regressor']\n",
    "\n",
    "def plotCoefs(title, pipe):\n",
    "  coefs = pd.DataFrame(getRegressor(pipe).coef_, columns=['Coefficients'], index=X.columns)\n",
    "  coefs.plot(kind='barh')\n",
    "  plt.title(title)\n",
    "  plt.axvline(x=0, color='.5')\n",
    "  # plt.subplots_adjust(left=.3)"
   ]
  },
  {
   "cell_type": "markdown",
   "metadata": {},
   "source": [
    "## Regression OLS"
   ]
  },
  {
   "cell_type": "code",
   "execution_count": 87,
   "metadata": {},
   "outputs": [
    {
     "name": "stdout",
     "output_type": "stream",
     "text": [
      "OLS r2: 0.6923709683362658\n",
      "OLS explained_variance_score: 0.6923709727054502\n",
      "OLS max_error: 2.993821423828125\n",
      "OLS mean absolute error: 0.32056739038191456\n",
      "OLS mean squared error: 0.17113878685635783\n"
     ]
    },
    {
     "data": {
      "image/png": "[encoded data removed]",
      "text/plain": [
       "<Figure size 432x288 with 1 Axes>"
      ]
     },
     "metadata": {
      "needs_background": "light"
     },
     "output_type": "display_data"
    }
   ],
   "source": [
    "#Not winsorized\n",
    "linear = LinearRegression()\n",
    "\n",
    "linear = Pipeline([('preprocessor', preprocessor), ('regressor', linear)])\n",
    "linear.fit(X, y)\n",
    "print_model_metrics(\"OLS\", linear)\n",
    "plotCoefs('linear scaled', linear)"
   ]
  },
  {
   "cell_type": "code",
   "execution_count": 9,
   "metadata": {},
   "outputs": [
    {
     "data": {
      "text/plain": [
       "LinearRegression()"
      ]
     },
     "execution_count": 9,
     "metadata": {},
     "output_type": "execute_result"
    }
   ],
   "source": []
  },
  {
   "cell_type": "code",
   "execution_count": 18,
   "metadata": {},
   "outputs": [
    {
     "name": "stdout",
     "output_type": "stream",
     "text": [
      "                 Coefficients\n",
      "d_fuel_other    -2.373621e-01\n",
      "d_fuel_wood     -2.205278e+11\n",
      "d_fuel_coal     -2.205278e+11\n",
      "d_fuel_kerosene -2.205278e+11\n",
      "d_fuel_gas      -2.205278e+11\n",
      "...                       ...\n",
      "d_lux_2         -2.656869e+10\n",
      "d_lux_3         -2.656869e+10\n",
      "d_lux_4         -2.656869e+10\n",
      "d_lux_5         -2.656869e+10\n",
      "h_hhsize        -2.656869e+10\n",
      "\n",
      "[73 rows x 1 columns]\n"
     ]
    }
   ],
   "source": [
    "#Call the coefficient\n",
    "coefs = pd.DataFrame(getRegressor(linear).coef_, columns=['Coefficients'], index=X.columns)\n",
    "print(coefs)"
   ]
  },
  {
   "cell_type": "markdown",
   "metadata": {},
   "source": [
    "## Ridge Regression"
   ]
  },
  {
   "cell_type": "code",
   "execution_count": 19,
   "metadata": {},
   "outputs": [],
   "source": [
    "#Not winsorized\n",
    "def ridgeInvestigate(alphas):\n",
    "\n",
    "# Find what sort of magnitude we should be using\n",
    "  ridge = RidgeCV(alphas=alphas, cv=None, store_cv_values=True)\n",
    "  ridgepipe = Pipeline([('preprocessor', preprocessor), ('regressor', ridge)])\n",
    "\n",
    "  ridgepipe.fit(X, y)\n",
    "\n",
    "# plot alphas\n",
    "  fig = plt.figure()\n",
    "  f1 = fig.add_subplot(1,2,1)\n",
    "  f1.plot(ridge.alphas, ridge.cv_values_.mean(0))\n",
    "\n",
    "  f1.set_xlabel(\"alpha\")\n",
    "  f1.set_xscale(\"log\")\n",
    "  f1.set_ylabel(\"mean squared error\")\n",
    "  f1.set_title(\"RidgeCV Alpha Error\")\n",
    "\n",
    "  f2 = fig.add_subplot(1,2,2)\n",
    "  f2.plot(ridge.alphas, np.abs(ridge.cv_values_).max(0))\n",
    "  f2.set_xlabel(\"alpha\")\n",
    "  f2.set_xscale(\"log\")\n",
    "  f2.set_ylabel(\"worstcase mean squared error\")\n",
    "  f2.set_title(\"RidgeCV Alpha Error\")\n",
    "  print();\n",
    "  print(\"ridge alpha\", ridge.alpha_)\n",
    "  print(\"ridge best_score:\", ridge.best_score_)\n",
    "  print(\"ridge:\", ridge)\n",
    "  print()\n",
    "  print_model_metrics(\"ridge\", ridgepipe)\n",
    "  plotCoefs('ridge scaled', ridgepipe)\n",
    "  return ridgepipe"
   ]
  },
  {
   "cell_type": "code",
   "execution_count": 20,
   "metadata": {},
   "outputs": [
    {
     "name": "stdout",
     "output_type": "stream",
     "text": [
      "\n",
      "ridge alpha 3.5481338923357533\n",
      "ridge best_score: -0.17204446379884245\n",
      "ridge: RidgeCV(alphas=array([ 0.01      ,  0.01412538,  0.01995262,  0.02818383,  0.03981072,\n",
      "        0.05623413,  0.07943282,  0.11220185,  0.15848932,  0.22387211,\n",
      "        0.31622777,  0.44668359,  0.63095734,  0.89125094,  1.25892541,\n",
      "        1.77827941,  2.51188643,  3.54813389,  5.01187234,  7.07945784,\n",
      "       10.        ]),\n",
      "        store_cv_values=True)\n",
      "\n",
      "ridge r2: 0.692570349600421\n",
      "ridge explained_variance_score: 0.692570349600421\n",
      "ridge max_error: 2.9799113968707758\n",
      "ridge mean absolute error: 0.3206058810210264\n",
      "ridge mean squared error: 0.1710278679762871\n"
     ]
    },
    {
     "data": {
      "text/plain": [
       "Pipeline(steps=[('preprocessor',\n",
       "                 ColumnTransformer(remainder='passthrough',\n",
       "                                   transformers=[('scaler',\n",
       "                                                  PowerTransformer(method='box-cox'),\n",
       "                                                  ['h_hhsize'])])),\n",
       "                ('regressor',\n",
       "                 RidgeCV(alphas=array([ 0.01      ,  0.01412538,  0.01995262,  0.02818383,  0.03981072,\n",
       "        0.05623413,  0.07943282,  0.11220185,  0.15848932,  0.22387211,\n",
       "        0.31622777,  0.44668359,  0.63095734,  0.89125094,  1.25892541,\n",
       "        1.77827941,  2.51188643,  3.54813389,  5.01187234,  7.07945784,\n",
       "       10.        ]),\n",
       "                         store_cv_values=True))])"
      ]
     },
     "execution_count": 20,
     "metadata": {},
     "output_type": "execute_result"
    },
    {
     "data": {
      "image/png": "[encoded data removed]",
      "text/plain": [
       "<Figure size 432x288 with 2 Axes>"
      ]
     },
     "metadata": {
      "needs_background": "light"
     },
     "output_type": "display_data"
    },
    {
     "data": {
      "image/png": "[encoded data removed]",
      "text/plain": [
       "<Figure size 432x288 with 1 Axes>"
      ]
     },
     "metadata": {
      "needs_background": "light"
     },
     "output_type": "display_data"
    }
   ],
   "source": [
    "ridgeInvestigate(np.logspace(-2, 1, 21))"
   ]
  },
  {
   "cell_type": "code",
   "execution_count": 24,
   "metadata": {},
   "outputs": [
    {
     "name": "stdout",
     "output_type": "stream",
     "text": [
      "\n",
      "ridge alpha 3.7474631737480832\n",
      "ridge best_score: -0.17204444083486456\n",
      "ridge: RidgeCV(alphas=array([1.        , 1.01878093, 1.03791459, 1.05740759, 1.07726669,\n",
      "       1.09749877, 1.11811082, 1.13910998, 1.16050353, 1.18229887,\n",
      "       1.20450354, 1.22712524, 1.2501718 , 1.27365119, 1.29757154,\n",
      "       1.32194115, 1.34676844, 1.372062  , 1.39783061, 1.42408317,\n",
      "       1.45082878, 1.4780767 , 1.50583635, 1.53411737, 1.56292952,\n",
      "       1.59228279, 1.62218735, 1.65265354, 1.68369191, 1.71531322,\n",
      "       1.7475284 ,...\n",
      "       3.67837977, 3.74746317, 3.81784403, 3.8895467 , 3.96259601,\n",
      "       4.03701726, 4.11283621, 4.19007911, 4.2687727 , 4.34894423,\n",
      "       4.43062146, 4.51383266, 4.59860665, 4.68497277, 4.77296092,\n",
      "       4.86260158, 4.95392577, 5.04696512, 5.14175183, 5.23831872,\n",
      "       5.33669923, 5.43692742, 5.53903799, 5.64306628, 5.74904833,\n",
      "       5.85702082, 5.96702113, 6.07908735, 6.19325828, 6.30957344]),\n",
      "        store_cv_values=True)\n",
      "\n",
      "ridge r2: 0.6925689298544513\n",
      "ridge explained_variance_score: 0.6925689298544514\n",
      "ridge max_error: 2.9800422869947836\n",
      "ridge mean absolute error: 0.3206075704976278\n",
      "ridge mean squared error: 0.171028657802922\n"
     ]
    },
    {
     "data": {
      "image/png": "[encoded data removed]",
      "text/plain": [
       "<Figure size 432x288 with 2 Axes>"
      ]
     },
     "metadata": {
      "needs_background": "light"
     },
     "output_type": "display_data"
    },
    {
     "data": {
      "image/png": "[encoded data removed]",
      "text/plain": [
       "<Figure size 432x288 with 1 Axes>"
      ]
     },
     "metadata": {
      "needs_background": "light"
     },
     "output_type": "display_data"
    }
   ],
   "source": [
    "#Optimized & selected best predictor\n",
    "ridgepipe = ridgeInvestigate(10**np.linspace(0,0.8, 100))"
   ]
  },
  {
   "cell_type": "markdown",
   "metadata": {},
   "source": [
    "## Lasso Regression"
   ]
  },
  {
   "cell_type": "code",
   "execution_count": 21,
   "metadata": {},
   "outputs": [],
   "source": [
    "#Not winsorized\n",
    "def lassoInvestigate(alphas, cv=20):\n",
    "\n",
    "  # Find what sort of magnitude we should be using\n",
    "  lasso = LassoCV(alphas=alphas, cv=cv, max_iter=100000)\n",
    "  lassopipe = Pipeline([('preprocessor', preprocessor), ('regressor', lasso)])\n",
    "\n",
    "  lassopipe.fit(X, y)\n",
    "\n",
    "  # plot alphas\n",
    "  fig = plt.figure()\n",
    "  f1 = fig.add_subplot(1,2,1)\n",
    "  f1.plot(lasso.alphas_, np.mean(lasso.mse_path_, axis=1))\n",
    "  f1.set_xlabel(\"alpha\")\n",
    "  f1.set_xscale(\"log\")\n",
    "  f1.set_ylabel(\"mean squared error\")\n",
    "  f1.set_title(\"LassoCV Alpha Error\")\n",
    "\n",
    "  f2 = fig.add_subplot(1,2,2)\n",
    "  f2.plot(lasso.alphas_, np.abs(lasso.mse_path_).max(axis=1))\n",
    "  f2.set_xlabel(\"alpha\")\n",
    "  f2.set_xscale(\"log\")\n",
    "  f2.set_ylabel(\"worstcase mean squared error\")\n",
    "  f2.set_title(\"LassoCV Alpha Error\")\n",
    "  print();\n",
    "  print(\"lasso alpha\", lasso.alpha_)\n",
    "  print(\"lasso best_score:\", lasso.score(X,y))\n",
    "  print(\"lasso:\", lasso)\n",
    "  print()\n",
    "  print_model_metrics(\"lasso\", lassopipe)\n",
    "  plotCoefs('lasso scaled', lassopipe)\n",
    "  return lassopipe"
   ]
  },
  {
   "cell_type": "code",
   "execution_count": 25,
   "metadata": {
    "scrolled": true
   },
   "outputs": [
    {
     "name": "stdout",
     "output_type": "stream",
     "text": [
      "\n",
      "lasso alpha 0.0001\n",
      "lasso best_score: -3.835871812253651\n",
      "lasso: LassoCV(alphas=array([1.00000000e-04, 1.58489319e-04, 2.51188643e-04, 3.98107171e-04,\n",
      "       6.30957344e-04, 1.00000000e-03, 1.58489319e-03, 2.51188643e-03,\n",
      "       3.98107171e-03, 6.30957344e-03, 1.00000000e-02, 1.58489319e-02,\n",
      "       2.51188643e-02, 3.98107171e-02, 6.30957344e-02, 1.00000000e-01,\n",
      "       1.58489319e-01, 2.51188643e-01, 3.98107171e-01, 6.30957344e-01,\n",
      "       1.00000000e+00]),\n",
      "        cv=20, max_iter=100000)\n",
      "\n",
      "lasso r2: 0.6924589139400028\n",
      "lasso explained_variance_score: 0.6924589139400028\n",
      "lasso max_error: 2.9775416830337367\n",
      "lasso mean absolute error: 0.32070026046467964\n",
      "lasso mean squared error: 0.1710898613571893\n"
     ]
    },
    {
     "data": {
      "text/plain": [
       "Pipeline(steps=[('preprocessor',\n",
       "                 ColumnTransformer(remainder='passthrough',\n",
       "                                   transformers=[('scaler',\n",
       "                                                  PowerTransformer(method='box-cox'),\n",
       "                                                  ['h_hhsize'])])),\n",
       "                ('regressor',\n",
       "                 LassoCV(alphas=array([1.00000000e-04, 1.58489319e-04, 2.51188643e-04, 3.98107171e-04,\n",
       "       6.30957344e-04, 1.00000000e-03, 1.58489319e-03, 2.51188643e-03,\n",
       "       3.98107171e-03, 6.30957344e-03, 1.00000000e-02, 1.58489319e-02,\n",
       "       2.51188643e-02, 3.98107171e-02, 6.30957344e-02, 1.00000000e-01,\n",
       "       1.58489319e-01, 2.51188643e-01, 3.98107171e-01, 6.30957344e-01,\n",
       "       1.00000000e+00]),\n",
       "                         cv=20, max_iter=100000))])"
      ]
     },
     "execution_count": 25,
     "metadata": {},
     "output_type": "execute_result"
    },
    {
     "data": {
      "image/png": "[encoded data removed]",
      "text/plain": [
       "<Figure size 432x288 with 2 Axes>"
      ]
     },
     "metadata": {
      "needs_background": "light"
     },
     "output_type": "display_data"
    },
    {
     "data": {
      "image/png": "[encoded data removed]",
      "text/plain": [
       "<Figure size 432x288 with 1 Axes>"
      ]
     },
     "metadata": {
      "needs_background": "light"
     },
     "output_type": "display_data"
    }
   ],
   "source": [
    "lassoInvestigate(np.logspace(-4, 0, 21))"
   ]
  },
  {
   "cell_type": "code",
   "execution_count": 26,
   "metadata": {},
   "outputs": [
    {
     "name": "stdout",
     "output_type": "stream",
     "text": [
      "\n",
      "lasso alpha 0.001\n",
      "lasso best_score: -3.6094119102737885\n",
      "lasso: LassoCV(alphas=array([0.001     , 0.00107227, 0.00114976, 0.00123285, 0.00132194,\n",
      "       0.00141747, 0.00151991, 0.00162975, 0.00174753, 0.00187382,\n",
      "       0.00200923, 0.00215443, 0.00231013, 0.00247708, 0.00265609,\n",
      "       0.00284804, 0.00305386, 0.00327455, 0.00351119, 0.00376494,\n",
      "       0.00403702, 0.00432876, 0.00464159, 0.00497702, 0.0053367 ,\n",
      "       0.00572237, 0.00613591, 0.00657933, 0.0070548 , 0.00756463,\n",
      "       0.008...\n",
      "       0.09326033, 0.1       , 0.10722672, 0.1149757 , 0.12328467,\n",
      "       0.13219411, 0.14174742, 0.15199111, 0.16297508, 0.17475284,\n",
      "       0.18738174, 0.2009233 , 0.21544347, 0.23101297, 0.24770764,\n",
      "       0.26560878, 0.28480359, 0.30538555, 0.32745492, 0.35111917,\n",
      "       0.37649358, 0.40370173, 0.43287613, 0.46415888, 0.49770236,\n",
      "       0.53366992, 0.57223677, 0.61359073, 0.65793322, 0.70548023,\n",
      "       0.75646333, 0.81113083, 0.869749  , 0.93260335, 1.        ]),\n",
      "        cv=20, max_iter=100000)\n",
      "\n",
      "lasso r2: 0.6908203914840719\n",
      "lasso explained_variance_score: 0.690820391484072\n",
      "lasso max_error: 2.9910221582325214\n",
      "lasso mean absolute error: 0.32160740099032326\n",
      "lasso mean squared error: 0.17200139673416054\n"
     ]
    },
    {
     "data": {
      "image/png": "[encoded data removed]",
      "text/plain": [
       "<Figure size 432x288 with 2 Axes>"
      ]
     },
     "metadata": {
      "needs_background": "light"
     },
     "output_type": "display_data"
    },
    {
     "data": {
      "image/png": "[encoded data removed]",
      "text/plain": [
       "<Figure size 432x288 with 1 Axes>"
      ]
     },
     "metadata": {
      "needs_background": "light"
     },
     "output_type": "display_data"
    }
   ],
   "source": [
    "#Lasso is just bad\n",
    "lassopipe = lassoInvestigate(10**np.linspace(-3,0, 100))"
   ]
  },
  {
   "cell_type": "markdown",
   "metadata": {},
   "source": [
    "## Averaging Lasso and Ridge "
   ]
  },
  {
   "cell_type": "code",
   "execution_count": 27,
   "metadata": {},
   "outputs": [
    {
     "name": "stdout",
     "output_type": "stream",
     "text": [
      "averaged r2: 0.692087355463936\n",
      "averaged explained_variance_score: 0.692087355463936\n",
      "averaged max_error: 2.985532222613653\n",
      "averaged mean absolute error: 0.3208902170527662\n",
      "averaged mean squared error: 0.1712965650824404\n"
     ]
    }
   ],
   "source": [
    "#not winsorized\n",
    "avg_predictions = (lassopipe.predict(X) + ridgepipe.predict(X)) / 2.0\n",
    "print_all_metrics('averaged', y, avg_predictions)"
   ]
  },
  {
   "cell_type": "markdown",
   "metadata": {},
   "source": [
    "# ElasticNet"
   ]
  },
  {
   "cell_type": "code",
   "execution_count": 31,
   "metadata": {},
   "outputs": [],
   "source": [
    "#Not winsorized\n",
    "def elasticInvestigate(l1_ratios, cv=20):\n",
    "  cv=20\n",
    "# Find what sort of magnitude we should be using\n",
    "  elastic = ElasticNetCV(l1_ratio=l1_ratios, cv=cv, eps=1e-8, max_iter=100000, n_jobs=-1)\n",
    "  elasticpipe = Pipeline([('preprocessor', preprocessor), ('regressor', elastic)])\n",
    "  elasticpipe.fit(X, y)\n",
    "\n",
    "# plot alphas\n",
    "  fig = plt.figure()\n",
    "  f1 = fig.add_subplot(1,2,1)\n",
    "  for (a,m) in zip(elastic.alphas_, np.mean(elastic.mse_path_, axis=2)):   \n",
    "     f1.scatter(a, m)\n",
    "  f1.set_xlabel(\"alpha\")\n",
    "  f1.set_xscale(\"log\")\n",
    "  f1.set_title(\"ElasticCV MSE\")\n",
    "  print();\n",
    "  print(\"elastic alpha\", elastic.alpha_)\n",
    "  print(\"elastic best_score:\", elastic.score(X,y))\n",
    "  print(\"elastic:\", elastic)\n",
    "  print()\n",
    "  print_model_metrics(\"elastic\", elasticpipe)\n",
    "  plotCoefs('elastic scaled', elasticpipe)\n",
    "  return elasticpipe"
   ]
  },
  {
   "cell_type": "code",
   "execution_count": 30,
   "metadata": {
    "scrolled": true
   },
   "outputs": [
    {
     "name": "stdout",
     "output_type": "stream",
     "text": [
      "\n",
      "elastic alpha 0.00016134831616804098\n",
      "elastic best_score: -3.656561247279897\n",
      "elastic: ElasticNetCV(cv=20, eps=1e-08,\n",
      "             l1_ratio=array([1.00000000e-04, 1.58489319e-04, 2.51188643e-04, 3.98107171e-04,\n",
      "       6.30957344e-04, 1.00000000e-03, 1.58489319e-03, 2.51188643e-03,\n",
      "       3.98107171e-03, 6.30957344e-03, 1.00000000e-02, 1.58489319e-02,\n",
      "       2.51188643e-02, 3.98107171e-02, 6.30957344e-02, 1.00000000e-01,\n",
      "       1.58489319e-01, 2.51188643e-01, 3.98107171e-01, 6.30957344e-01,\n",
      "       1.00000000e+00]),\n",
      "             max_iter=100000, n_jobs=-1)\n",
      "\n",
      "elastic r2: 0.6925648615158588\n",
      "elastic explained_variance_score: 0.6925648615158588\n",
      "elastic max_error: 2.979912892947649\n",
      "elastic mean absolute error: 0.3206119915858923\n",
      "elastic mean squared error: 0.17103092108258547\n"
     ]
    },
    {
     "data": {
      "text/plain": [
       "Pipeline(steps=[('preprocessor',\n",
       "                 ColumnTransformer(remainder='passthrough',\n",
       "                                   transformers=[('scaler',\n",
       "                                                  PowerTransformer(method='box-cox'),\n",
       "                                                  ['h_hhsize'])])),\n",
       "                ('regressor',\n",
       "                 ElasticNetCV(cv=20, eps=1e-08,\n",
       "                              l1_ratio=array([1.00000000e-04, 1.58489319e-04, 2.51188643e-04, 3.98107171e-04,\n",
       "       6.30957344e-04, 1.00000000e-03, 1.58489319e-03, 2.51188643e-03,\n",
       "       3.98107171e-03, 6.30957344e-03, 1.00000000e-02, 1.58489319e-02,\n",
       "       2.51188643e-02, 3.98107171e-02, 6.30957344e-02, 1.00000000e-01,\n",
       "       1.58489319e-01, 2.51188643e-01, 3.98107171e-01, 6.30957344e-01,\n",
       "       1.00000000e+00]),\n",
       "                              max_iter=100000, n_jobs=-1))])"
      ]
     },
     "execution_count": 30,
     "metadata": {},
     "output_type": "execute_result"
    },
    {
     "data": {
      "image/png": "[encoded data removed]",
      "text/plain": [
       "<Figure size 432x288 with 1 Axes>"
      ]
     },
     "metadata": {
      "needs_background": "light"
     },
     "output_type": "display_data"
    },
    {
     "data": {
      "image/png": "[encoded data removed]",
      "text/plain": [
       "<Figure size 432x288 with 1 Axes>"
      ]
     },
     "metadata": {
      "needs_background": "light"
     },
     "output_type": "display_data"
    }
   ],
   "source": [
    "elasticInvestigate(np.logspace(-4, 0, 21))"
   ]
  },
  {
   "cell_type": "code",
   "execution_count": 32,
   "metadata": {},
   "outputs": [
    {
     "name": "stdout",
     "output_type": "stream",
     "text": [
      "\n",
      "elastic alpha 0.0001787347025533538\n",
      "elastic best_score: -3.594815225712394\n",
      "elastic: ElasticNetCV(cv=20, eps=1e-08,\n",
      "             l1_ratio=array([1.00000000e-05, 1.29154967e-05, 1.66810054e-05, 2.15443469e-05,\n",
      "       2.78255940e-05, 3.59381366e-05, 4.64158883e-05, 5.99484250e-05,\n",
      "       7.74263683e-05, 1.00000000e-04]),\n",
      "             max_iter=100000, n_jobs=-1)\n",
      "\n",
      "elastic r2: 0.6925666471283842\n",
      "elastic explained_variance_score: 0.6925666471283842\n",
      "elastic max_error: 2.9802414947303415\n",
      "elastic mean absolute error: 0.32061020171155\n",
      "elastic mean squared error: 0.17102992771872852\n"
     ]
    },
    {
     "data": {
      "image/png": "[encoded data removed]",
      "text/plain": [
       "<Figure size 432x288 with 1 Axes>"
      ]
     },
     "metadata": {
      "needs_background": "light"
     },
     "output_type": "display_data"
    },
    {
     "data": {
      "image/png": "[encoded data removed]",
      "text/plain": [
       "<Figure size 432x288 with 1 Axes>"
      ]
     },
     "metadata": {
      "needs_background": "light"
     },
     "output_type": "display_data"
    }
   ],
   "source": [
    "#Optimized & safe best predictor\n",
    "elasticpipe = elasticInvestigate(10**np.linspace(-5,-4, 10))"
   ]
  },
  {
   "cell_type": "markdown",
   "metadata": {},
   "source": [
    "## KNN-Regressor"
   ]
  },
  {
   "cell_type": "markdown",
   "metadata": {},
   "source": [
    "### Without Winsorizing"
   ]
  },
  {
   "cell_type": "code",
   "execution_count": 35,
   "metadata": {},
   "outputs": [],
   "source": [
    "## Get non-winsorized data Prepare training data\n",
    "peruTraining = peru.copy(deep=True)\n",
    "peruTraining.dropna(axis='index', inplace=True)\n",
    "peruTraining.drop(['id_for_matlab', 'poor', 'hhid', 'training', 'percapitaconsumption', 'lncaphat_OLS', 'percapitahat_OLS'], axis='columns', inplace=True)\n",
    "peruTraining.head()\n",
    "y = peruTraining['lnpercapitaconsumption']\n",
    "X = peruTraining.drop('lnpercapitaconsumption', axis='columns')\n",
    "\n",
    "\n",
    "X_train, X_test, y_train, y_test = train_test_split(X, y, random_state=43)"
   ]
  },
  {
   "cell_type": "code",
   "execution_count": 36,
   "metadata": {
    "scrolled": true
   },
   "outputs": [
    {
     "name": "stdout",
     "output_type": "stream",
     "text": [
      "2\n"
     ]
    },
    {
     "name": "stderr",
     "output_type": "stream",
     "text": [
      "[Parallel(n_jobs=2)]: Using backend LokyBackend with 2 concurrent workers.\n",
      "[Parallel(n_jobs=2)]: Done  20 out of  20 | elapsed:   15.6s finished\n",
      "[Parallel(n_jobs=2)]: Using backend LokyBackend with 2 concurrent workers.\n"
     ]
    },
    {
     "name": "stdout",
     "output_type": "stream",
     "text": [
      "{'fit_time': array([0.36925149, 0.36400533, 0.37385058, 0.4146347 , 0.45624399,\n",
      "       0.47303915, 0.49602985, 0.56529498, 0.49066639, 0.50580597,\n",
      "       0.41342831, 0.420784  , 0.42533803, 0.466681  , 0.48470569,\n",
      "       0.53477311, 0.56511378, 0.56399822, 0.65081286, 0.75280285]), 'score_time': array([1.02997923, 1.10204101, 0.97645926, 1.08510947, 0.93891907,\n",
      "       1.02056813, 0.96820855, 0.89026356, 1.06868577, 0.90331316,\n",
      "       1.00163007, 1.0768404 , 0.9787004 , 1.07929564, 0.86898828,\n",
      "       0.94400072, 0.8518734 , 0.85923028, 0.80553508, 0.5983026 ]), 'test_neg_mean_squared_error': array([-0.24626103, -0.24619739, -0.26380844, -0.24465381, -0.26614709,\n",
      "       -0.26312053, -0.2548787 , -0.27152596, -0.25762746, -0.2540661 ,\n",
      "       -0.24686333, -0.24829553, -0.24836511, -0.2855989 , -0.23916289,\n",
      "       -0.25658207, -0.25459018, -0.26168665, -0.25359507, -0.24841802]), 'test_r2': array([0.55419172, 0.57315065, 0.50265751, 0.55252959, 0.52268953,\n",
      "       0.52349049, 0.52992942, 0.4930142 , 0.55825676, 0.57355266,\n",
      "       0.53424633, 0.55821209, 0.53313216, 0.49864746, 0.5573022 ,\n",
      "       0.55396871, 0.51323503, 0.55342092, 0.55697973, 0.55229782]), 'test_max_error': array([-1.9822095, -2.346698 , -2.12847  , -1.9041   , -1.811815 ,\n",
      "       -2.112258 , -1.705606 , -2.664992 , -3.0060735, -1.833429 ,\n",
      "       -2.1921895, -2.014862 , -1.8669485, -2.2018355, -2.132938 ,\n",
      "       -1.8751775, -1.719602 , -2.11731  , -2.102878 , -2.254781 ])}\n",
      "3\n"
     ]
    },
    {
     "name": "stderr",
     "output_type": "stream",
     "text": [
      "[Parallel(n_jobs=2)]: Done  20 out of  20 | elapsed:   15.5s finished\n",
      "[Parallel(n_jobs=2)]: Using backend LokyBackend with 2 concurrent workers.\n"
     ]
    },
    {
     "name": "stdout",
     "output_type": "stream",
     "text": [
      "{'fit_time': array([0.38655567, 0.38351655, 0.40122032, 0.35448885, 0.39344811,\n",
      "       0.43493247, 0.48196149, 0.77655292, 0.66640329, 0.70406961,\n",
      "       0.63477969, 0.59501648, 0.55130839, 0.67515564, 0.74914265,\n",
      "       0.5718019 , 0.51179457, 0.57243967, 0.57551813, 0.69512868]), 'score_time': array([1.26725292, 1.25991344, 1.19775033, 1.13210726, 0.97996998,\n",
      "       1.17575669, 0.92288971, 0.76562834, 0.80590057, 0.8680079 ,\n",
      "       0.88624477, 0.9138155 , 0.81933594, 0.80483794, 1.02646184,\n",
      "       0.97330952, 0.87386966, 0.85910559, 0.98443747, 0.79231   ]), 'test_neg_mean_squared_error': array([-0.21964123, -0.21988517, -0.23380809, -0.21798654, -0.24305129,\n",
      "       -0.22797079, -0.2105142 , -0.24293699, -0.2246446 , -0.22969752,\n",
      "       -0.22130136, -0.22660771, -0.22698476, -0.25825132, -0.21168735,\n",
      "       -0.22627466, -0.22485576, -0.22109046, -0.22216006, -0.21903588]), 'test_r2': array([0.60238174, 0.61876994, 0.5592154 , 0.60130388, 0.56410972,\n",
      "       0.58714645, 0.61175048, 0.54639474, 0.61481111, 0.61445507,\n",
      "       0.58247375, 0.59680086, 0.57332218, 0.54665457, 0.60816026,\n",
      "       0.60665381, 0.57008591, 0.6227    , 0.61189543, 0.6052507 ]), 'test_max_error': array([-2.02151633, -2.08586633, -2.14935533, -1.67133833, -1.77858333,\n",
      "       -2.07585733, -1.500211  , -2.39454267, -3.067998  , -2.119275  ,\n",
      "       -2.12762367, -1.56077267, -2.03146733, -2.18829767, -1.93692967,\n",
      "       -1.73934567, -1.611504  , -2.149255  , -1.900756  , -2.11606867])}\n",
      "4\n",
      "{'fit_time': array([0.44181728, 0.4566772 , 0.41504455, 0.44094992, 0.50410581,\n",
      "       0.50480008, 0.57509708, 0.51972365, 0.63526821, 0.69377398,\n",
      "       0.50203419, 0.70016384, 0.56357813, 0.83284402, 0.77058625,\n",
      "       0.5579648 , 0.47813916, 0.71169829, 0.61776137, 0.61180472]), 'score_time': array([1.18979478, 1.35821295, 1.04590392, 1.16680336, 1.07575679,\n",
      "       1.16453052, 0.98141026, 1.11626101, 1.08849096, 0.89849472,\n",
      "       1.01186848, 1.00238657, 0.8686533 , 0.74179959, 1.09370732,\n",
      "       0.97965193, 0.82633567, 0.74764943, 0.87936711, 0.90325379]), 'test_neg_mean_squared_error': array([-0.20561147, -0.20907648, -0.22252275, -0.20472084, -0.22720289,\n",
      "       -0.20743028, -0.19840045, -0.2309707 , -0.21369405, -0.21965813,\n",
      "       -0.2043873 , -0.21272682, -0.20975719, -0.24236232, -0.19433462,\n",
      "       -0.21228662, -0.21756111, -0.20895789, -0.21397043, -0.2111389 ]), 'test_r2': array([0.62777994, 0.63750972, 0.58049098, 0.62556677, 0.59253238,\n",
      "       0.62434517, 0.63409176, 0.56873786, 0.63358758, 0.63130609,\n",
      "       0.61438527, 0.62149889, 0.60570595, 0.57454681, 0.6402807 ,\n",
      "       0.63097002, 0.58403294, 0.64340472, 0.62620238, 0.61948275]), 'test_max_error': array([-1.70175575, -2.01963975, -2.1081865 , -1.676389  , -1.6790015 ,\n",
      "       -2.05860625, -1.60045875, -2.32288525, -2.7940625 , -2.20771925,\n",
      "       -2.15988625, -1.80254575, -2.08670275, -2.284485  , -1.93991375,\n",
      "       -1.6456575 , -1.68141825, -2.20060075, -1.80294525, -1.9887435 ])}\n",
      "[0.5397452499762105, 0.592216800443885, 0.6158229342143664]\n"
     ]
    },
    {
     "name": "stderr",
     "output_type": "stream",
     "text": [
      "[Parallel(n_jobs=2)]: Done  20 out of  20 | elapsed:   16.2s finished\n"
     ]
    }
   ],
   "source": [
    "# Compare winsorizing vs not\n",
    "from sklearn.neighbors import KNeighborsRegressor\n",
    "def knnrInvestigate(nn):\n",
    "  # Find what sort of magnitude we should be using\n",
    "  knnr = KNeighborsRegressor(n_neighbors=nn, n_jobs=-1)\n",
    "  knnrpipe = Pipeline([('preprocessor', preprocessor), ('regressor', knnr)])\n",
    "\n",
    "  results = cross_validate(knnrpipe, X, y, cv=20, n_jobs=2, pre_dispatch=4, verbose=True, scoring=scorers)\n",
    "  print(results)\n",
    "  return results, knnrpipe\n",
    "\n",
    "knnrs = []\n",
    "results = []\n",
    "for i in range(2, 5):\n",
    "    print(i)\n",
    "    result, knnr = knnrInvestigate(i)\n",
    "    results.append(result)\n",
    "    knnrs.append(knnr)\n",
    "print( [np.mean(knn['test_r2']) for knn in results]) # (last output line) we see higher k is better for r2 score"
   ]
  },
  {
   "cell_type": "markdown",
   "metadata": {},
   "source": [
    "### With winsorizing"
   ]
  },
  {
   "cell_type": "code",
   "execution_count": 37,
   "metadata": {},
   "outputs": [],
   "source": [
    "#With winsorizing\n",
    "peruTraining['h_hhsize'].value_counts(dropna=False).sort_index(ascending = True)\n",
    "from scipy.stats.mstats import winsorize\n",
    "winsorize(a=peruTraining['h_hhsize'], limits=[0., 0.05], inplace=True)\n",
    "peruTraining['h_hhsize'].value_counts(dropna=False).sort_index(ascending = True)\n",
    "y = peruTraining['lnpercapitaconsumption']\n",
    "X = peruTraining.drop('lnpercapitaconsumption', axis='columns')"
   ]
  },
  {
   "cell_type": "code",
   "execution_count": 38,
   "metadata": {
    "scrolled": true
   },
   "outputs": [
    {
     "name": "stderr",
     "output_type": "stream",
     "text": [
      "[Parallel(n_jobs=2)]: Using backend LokyBackend with 2 concurrent workers.\n"
     ]
    },
    {
     "name": "stdout",
     "output_type": "stream",
     "text": [
      "2\n"
     ]
    },
    {
     "name": "stderr",
     "output_type": "stream",
     "text": [
      "[Parallel(n_jobs=2)]: Done  20 out of  20 | elapsed:   13.8s finished\n",
      "[Parallel(n_jobs=2)]: Using backend LokyBackend with 2 concurrent workers.\n"
     ]
    },
    {
     "name": "stdout",
     "output_type": "stream",
     "text": [
      "{'fit_time': array([0.38153052, 0.41417193, 0.36280227, 0.36523438, 0.40212417,\n",
      "       0.455899  , 0.51199341, 0.637573  , 0.55441666, 0.5852623 ,\n",
      "       0.51625538, 0.57633853, 0.55668521, 0.54796314, 0.58912158,\n",
      "       0.74198031, 0.61722398, 0.64312935, 0.59972191, 0.62667942]), 'score_time': array([1.07669258, 1.03675556, 0.9796412 , 1.13973451, 0.74011278,\n",
      "       0.86492944, 0.7368114 , 0.73193288, 0.78269935, 0.66152787,\n",
      "       0.67525053, 0.68084264, 0.69805431, 0.8004303 , 0.74505377,\n",
      "       0.7385025 , 0.75183535, 0.71595383, 0.78688407, 0.72483778]), 'test_neg_mean_squared_error': array([-0.24841874, -0.24865423, -0.26452915, -0.24596208, -0.26310145,\n",
      "       -0.26492469, -0.25763424, -0.27165529, -0.25619145, -0.25687739,\n",
      "       -0.24580341, -0.25201861, -0.25091577, -0.29035525, -0.2393582 ,\n",
      "       -0.25317597, -0.25041817, -0.26372107, -0.25335014, -0.25017791]), 'test_r2': array([0.55028559, 0.56889105, 0.50129879, 0.55013678, 0.52815159,\n",
      "       0.52022318, 0.52484739, 0.49277272, 0.56071903, 0.56883394,\n",
      "       0.53624607, 0.55158768, 0.52833752, 0.49029796, 0.55694067,\n",
      "       0.55988972, 0.52121172, 0.54994911, 0.55740763, 0.54912614]), 'test_max_error': array([-1.9822095, -2.346698 , -2.12847  , -1.9041   , -1.811815 ,\n",
      "       -2.112258 , -1.705606 , -2.664992 , -3.0060735, -1.981386 ,\n",
      "       -2.1921895, -2.014862 , -2.1627495, -2.2018355, -2.132938 ,\n",
      "       -1.8751775, -1.719602 , -2.11731  , -2.102878 , -2.254781 ])}\n",
      "3\n"
     ]
    },
    {
     "name": "stderr",
     "output_type": "stream",
     "text": [
      "[Parallel(n_jobs=2)]: Done  20 out of  20 | elapsed:   15.2s finished\n",
      "[Parallel(n_jobs=2)]: Using backend LokyBackend with 2 concurrent workers.\n"
     ]
    },
    {
     "name": "stdout",
     "output_type": "stream",
     "text": [
      "{'fit_time': array([0.44975019, 0.45082045, 0.35879898, 0.55308652, 0.62511015,\n",
      "       0.7146616 , 0.58768153, 0.70009661, 0.69380307, 0.62141776,\n",
      "       0.58496237, 0.60610843, 0.80603313, 0.64336324, 0.64288235,\n",
      "       0.60633206, 0.70468926, 0.68196368, 0.81793237, 0.68751717]), 'score_time': array([1.15211511, 1.24963641, 0.73060966, 1.00499439, 0.81770706,\n",
      "       0.82092237, 0.8192451 , 0.82637525, 0.63416338, 0.85132194,\n",
      "       0.88415742, 0.81122875, 0.72248793, 0.89767742, 0.80568171,\n",
      "       0.82161546, 0.84864068, 0.80845308, 0.78780532, 0.70733547]), 'test_neg_mean_squared_error': array([-0.21690276, -0.22238255, -0.2346267 , -0.21628766, -0.24130205,\n",
      "       -0.22825568, -0.2115411 , -0.24013181, -0.22626687, -0.22967442,\n",
      "       -0.22285513, -0.22814972, -0.22642067, -0.25849197, -0.21232063,\n",
      "       -0.22637267, -0.22584735, -0.22133782, -0.22442582, -0.22121588]), 'test_r2': array([0.60733922, 0.61444007, 0.55767213, 0.60441112, 0.56724682,\n",
      "       0.58663052, 0.60985657, 0.5516325 , 0.61202948, 0.61449384,\n",
      "       0.57954228, 0.59405718, 0.57438255, 0.54623213, 0.60698804,\n",
      "       0.60648344, 0.56819003, 0.62227787, 0.60793723, 0.60132189]), 'test_max_error': array([-2.02151633, -2.08586633, -2.14935533, -1.67133833, -1.77858333,\n",
      "       -2.07585733, -1.500211  , -2.39454267, -3.067998  , -2.119275  ,\n",
      "       -2.12762367, -1.56077267, -2.03146733, -2.18829767, -1.93692967,\n",
      "       -1.73934567, -1.611504  , -2.149255  , -1.900756  , -2.11606867])}\n",
      "4\n",
      "{'fit_time': array([0.44856715, 0.44606113, 0.3662703 , 0.35653305, 0.46711254,\n",
      "       0.44668007, 0.62204647, 0.67990255, 0.63474369, 0.61607289,\n",
      "       0.71878791, 0.67621064, 0.60183024, 0.64837551, 0.65438199,\n",
      "       0.66069674, 0.62359142, 0.74286962, 0.64143944, 0.66710997]), 'score_time': array([1.31377268, 1.30627584, 1.26480126, 1.03625417, 0.8521421 ,\n",
      "       1.09501982, 0.70613885, 0.95159101, 0.79032183, 0.75477171,\n",
      "       0.81016898, 0.885571  , 0.82716179, 0.72979331, 0.91513944,\n",
      "       0.74348426, 0.76935053, 0.80232739, 0.94497967, 0.76031876]), 'test_neg_mean_squared_error': array([-0.20454343, -0.2115309 , -0.22049765, -0.2042103 , -0.22651407,\n",
      "       -0.20996299, -0.19864305, -0.22986203, -0.2119383 , -0.21856543,\n",
      "       -0.20576903, -0.21490181, -0.20839382, -0.24237946, -0.19621963,\n",
      "       -0.21195116, -0.21876862, -0.20879884, -0.2163559 , -0.21278719]), 'test_r2': array([0.62971342, 0.63325433, 0.58430878, 0.62650054, 0.59376772,\n",
      "       0.61975845, 0.63364434, 0.57080795, 0.6365981 , 0.63314017,\n",
      "       0.61177838, 0.61762896, 0.60826876, 0.57451671, 0.63679149,\n",
      "       0.63155317, 0.58172424, 0.64367614, 0.62203505, 0.61651218]), 'test_max_error': array([-1.70175575, -2.01963975, -2.1081865 , -1.676389  , -1.6790015 ,\n",
      "       -2.05860625, -1.60045875, -2.32288525, -2.7940625 , -2.094454  ,\n",
      "       -2.15988625, -1.80254575, -2.08670275, -2.284485  , -1.93991375,\n",
      "       -1.6456575 , -1.68141825, -2.20060075, -1.80294525, -1.9887435 ])}\n",
      "[0.5383577136749247, 0.5916582453271726, 0.615298944204828]\n"
     ]
    },
    {
     "name": "stderr",
     "output_type": "stream",
     "text": [
      "[Parallel(n_jobs=2)]: Done  20 out of  20 | elapsed:   15.4s finished\n"
     ]
    }
   ],
   "source": [
    "#With winsorized + higher cross validation - the more you add the \"better\" MSE\n",
    "from sklearn.neighbors import KNeighborsRegressor\n",
    "def knnrInvestigate(nn):\n",
    "  # Find what sort of magnitude we should be using\n",
    "  knnr = KNeighborsRegressor(n_neighbors=nn, n_jobs=-1)\n",
    "  knnrpipe = Pipeline([('preprocessor', preprocessor), ('regressor', knnr)])\n",
    "\n",
    "  results = cross_validate(knnrpipe, X, y, cv=20, n_jobs=2, pre_dispatch=4, verbose=True, scoring=scorers)\n",
    "  print(results)\n",
    "  return results, knnrpipe\n",
    "\n",
    "knnrs = []\n",
    "results = []\n",
    "for i in range(2, 5):\n",
    "    print(i)\n",
    "    result, knnr = knnrInvestigate(i)\n",
    "    results.append(result)\n",
    "    knnrs.append(knnr)\n",
    "    \n",
    "\n",
    "# Here we see winzorized data is worse for knns.\n",
    "    \n",
    "# Again we see higher k is better for r2 score\n",
    "print( [np.mean(knn['test_r2']) for knn in results])\n",
    "\n",
    "\n",
    "\n"
   ]
  },
  {
   "cell_type": "code",
   "execution_count": 39,
   "metadata": {
    "scrolled": true
   },
   "outputs": [
    {
     "name": "stderr",
     "output_type": "stream",
     "text": [
      "[Parallel(n_jobs=2)]: Using backend LokyBackend with 2 concurrent workers.\n"
     ]
    },
    {
     "name": "stdout",
     "output_type": "stream",
     "text": [
      "5\n"
     ]
    },
    {
     "name": "stderr",
     "output_type": "stream",
     "text": [
      "[Parallel(n_jobs=2)]: Done  20 out of  20 | elapsed:   15.9s finished\n",
      "[Parallel(n_jobs=2)]: Using backend LokyBackend with 2 concurrent workers.\n"
     ]
    },
    {
     "name": "stdout",
     "output_type": "stream",
     "text": [
      "{'fit_time': array([0.42552543, 0.45537043, 0.37248445, 0.41123509, 0.37233567,\n",
      "       0.41449308, 0.40498805, 0.44277167, 0.35471535, 0.42041492,\n",
      "       0.38059282, 0.51016879, 0.66739774, 0.6126287 , 0.55639005,\n",
      "       0.64910817, 0.68374348, 0.7979486 , 0.60244298, 0.7299881 ]), 'score_time': array([1.36616278, 1.38538861, 1.2134335 , 1.20990968, 1.12878275,\n",
      "       1.16930985, 1.26824141, 1.14326334, 1.13049388, 1.14664102,\n",
      "       0.92802906, 1.15283155, 0.91310239, 0.97456121, 0.77435946,\n",
      "       0.78768611, 0.77463651, 0.74527264, 0.82991838, 0.66566825]), 'test_neg_mean_squared_error': array([-0.19128302, -0.20227184, -0.21518303, -0.19563802, -0.21096326,\n",
      "       -0.20233244, -0.19216758, -0.22022736, -0.20603433, -0.21493757,\n",
      "       -0.19638731, -0.20363943, -0.19763382, -0.23232088, -0.1894147 ,\n",
      "       -0.20165097, -0.21099952, -0.20289012, -0.21067854, -0.20665418]), 'test_r2': array([0.65371884, 0.6493074 , 0.59432812, 0.6421792 , 0.62165667,\n",
      "       0.63357732, 0.64558699, 0.58879754, 0.64672138, 0.63922949,\n",
      "       0.62947874, 0.63766791, 0.62849503, 0.59217398, 0.64938762,\n",
      "       0.64945858, 0.59657842, 0.65375963, 0.63195317, 0.62756517]), 'test_max_error': array([-1.8153328, -1.913977 , -2.2623258, -1.5936986, -1.625616 ,\n",
      "       -1.8820236, -1.587939 , -2.3162018, -2.8039028, -2.088592 ,\n",
      "       -2.1317906, -1.604414 , -1.9216374, -2.264876 , -2.0088312,\n",
      "       -1.7745142, -1.5791618, -2.199894 , -1.7702346, -1.9843608])}\n",
      "6\n"
     ]
    },
    {
     "name": "stderr",
     "output_type": "stream",
     "text": [
      "[Parallel(n_jobs=2)]: Done  20 out of  20 | elapsed:   15.9s finished\n",
      "[Parallel(n_jobs=2)]: Using backend LokyBackend with 2 concurrent workers.\n"
     ]
    },
    {
     "name": "stdout",
     "output_type": "stream",
     "text": [
      "{'fit_time': array([0.43638825, 0.43429923, 0.41257787, 0.53860688, 0.61288095,\n",
      "       0.63860846, 0.66740274, 0.62325478, 0.71092153, 0.58595586,\n",
      "       0.53002143, 0.72449446, 0.6469202 , 0.63807344, 0.63340211,\n",
      "       0.6669426 , 0.73322701, 0.65415287, 0.65726948, 0.61534548]), 'score_time': array([1.23805737, 1.38749313, 0.84438825, 1.08964133, 0.79849577,\n",
      "       0.99501443, 0.87131119, 0.80243325, 0.92693329, 0.86832309,\n",
      "       0.86585402, 0.93926644, 0.87624669, 0.91932464, 0.80907369,\n",
      "       0.94284439, 0.87700748, 0.92421293, 0.92220545, 0.81202435]), 'test_neg_mean_squared_error': array([-0.18603745, -0.19480811, -0.20947583, -0.1923501 , -0.20516909,\n",
      "       -0.198613  , -0.18641359, -0.21906008, -0.19713272, -0.20747402,\n",
      "       -0.18988143, -0.1995182 , -0.19058061, -0.22775526, -0.18186109,\n",
      "       -0.20058175, -0.2077388 , -0.19560425, -0.20427376, -0.19488411]), 'test_r2': array([0.66321494, 0.66224778, 0.60508756, 0.64819278, 0.63204799,\n",
      "       0.6403132 , 0.65619902, 0.59097705, 0.6619846 , 0.65175699,\n",
      "       0.64175331, 0.64500075, 0.64175341, 0.60018866, 0.66336957,\n",
      "       0.65131727, 0.60281277, 0.66619326, 0.64314205, 0.64877733]), 'test_max_error': array([-1.743866  , -1.941248  , -2.11886817, -1.66874233, -1.6867825 ,\n",
      "       -1.919927  , -1.49472167, -2.15160833, -2.65614733, -2.005199  ,\n",
      "       -2.05733167, -1.6121125 , -1.87504417, -2.14112133, -1.9888515 ,\n",
      "       -1.8043665 , -1.671473  , -2.19839133, -1.759195  , -2.01092967])}\n",
      "7\n"
     ]
    },
    {
     "name": "stderr",
     "output_type": "stream",
     "text": [
      "[Parallel(n_jobs=2)]: Done  20 out of  20 | elapsed:   17.2s finished\n",
      "[Parallel(n_jobs=2)]: Using backend LokyBackend with 2 concurrent workers.\n"
     ]
    },
    {
     "name": "stdout",
     "output_type": "stream",
     "text": [
      "{'fit_time': array([0.42661619, 0.40400457, 0.42330456, 0.44958878, 0.45295501,\n",
      "       0.49426031, 0.54955459, 0.47727418, 0.44413233, 0.5941112 ,\n",
      "       0.60585666, 0.63266468, 0.59305692, 0.73866773, 0.68780351,\n",
      "       0.66332483, 0.7022655 , 0.65749812, 0.6574986 , 0.54169488]), 'score_time': array([1.41818857, 1.28363967, 1.22397709, 1.28479767, 1.2014761 ,\n",
      "       1.26723719, 1.24136829, 1.30785489, 0.8095839 , 0.90973949,\n",
      "       1.05079865, 1.03452563, 1.09281254, 1.03044009, 0.98637891,\n",
      "       1.09349608, 1.0661304 , 0.89669466, 1.30977082, 1.18075204]), 'test_neg_mean_squared_error': array([-0.1851698 , -0.19349068, -0.20805055, -0.18817443, -0.20244256,\n",
      "       -0.19440607, -0.18459096, -0.21149924, -0.19299626, -0.20205547,\n",
      "       -0.18676912, -0.19619927, -0.1882287 , -0.22270247, -0.17614418,\n",
      "       -0.1941798 , -0.20319174, -0.19442036, -0.19774634, -0.19063637]), 'test_r2': array([0.66478565, 0.6645319 , 0.60777457, 0.65583005, 0.63693778,\n",
      "       0.64793193, 0.6595605 , 0.60509445, 0.66907723, 0.66085196,\n",
      "       0.64762526, 0.65090607, 0.64617445, 0.60905855, 0.67395175,\n",
      "       0.66244613, 0.61150653, 0.66821362, 0.65454519, 0.65643267]), 'test_max_error': array([-1.65638243, -1.99987086, -2.10997014, -1.63708271, -1.76360871,\n",
      "       -1.81126129, -1.51909757, -2.00003857, -2.73154471, -2.08991286,\n",
      "       -2.191887  , -1.56837957, -1.82285886, -2.11096143, -1.92047257,\n",
      "       -1.78380114, -1.69208343, -2.11796029, -1.75268286, -2.123279  ])}\n",
      "8\n"
     ]
    },
    {
     "name": "stderr",
     "output_type": "stream",
     "text": [
      "[Parallel(n_jobs=2)]: Done  20 out of  20 | elapsed:   17.8s finished\n",
      "[Parallel(n_jobs=2)]: Using backend LokyBackend with 2 concurrent workers.\n"
     ]
    },
    {
     "name": "stdout",
     "output_type": "stream",
     "text": [
      "{'fit_time': array([0.47968125, 0.44735765, 0.37562966, 0.45182061, 0.45260119,\n",
      "       0.54238248, 0.59849477, 0.43505836, 0.43802166, 0.49300122,\n",
      "       0.49678636, 0.56261802, 0.69573522, 0.50310111, 0.42169476,\n",
      "       0.61264968, 0.60812569, 0.69266653, 0.61725426, 0.84250998]), 'score_time': array([1.46086454, 1.37530947, 1.33889747, 1.35951304, 1.18617558,\n",
      "       1.26006961, 1.26006079, 1.29896545, 1.29287815, 1.30383778,\n",
      "       1.10935807, 1.17303038, 1.30004334, 1.31688023, 0.94942546,\n",
      "       1.19294262, 1.04295897, 0.96325779, 0.90318847, 0.77035952]), 'test_neg_mean_squared_error': array([-0.18447263, -0.19264082, -0.2036254 , -0.18499619, -0.20326225,\n",
      "       -0.1916598 , -0.18110425, -0.21199418, -0.19090785, -0.19889235,\n",
      "       -0.18332249, -0.194585  , -0.18315999, -0.21754547, -0.17558059,\n",
      "       -0.19173373, -0.2006955 , -0.19021322, -0.19583194, -0.18860816]), 'test_r2': array([0.66604774, 0.66600535, 0.61611704, 0.66164304, 0.63546773,\n",
      "       0.6529054 , 0.66599099, 0.6041703 , 0.67265814, 0.66616123,\n",
      "       0.65412796, 0.65377831, 0.65570242, 0.61811137, 0.67499497,\n",
      "       0.66669828, 0.61627924, 0.67539329, 0.65788957, 0.66008793]), 'test_max_error': array([-1.62965625, -2.0289335 , -2.13378038, -1.57502012, -1.69529   ,\n",
      "       -1.82730188, -1.53634987, -1.9992785 , -2.77599313, -2.0289955 ,\n",
      "       -2.26540788, -1.7303605 , -1.8541855 , -2.010852  , -2.03201237,\n",
      "       -1.84706862, -1.71396   , -2.04786475, -1.74973425, -2.08211662])}\n",
      "9\n"
     ]
    },
    {
     "name": "stderr",
     "output_type": "stream",
     "text": [
      "[Parallel(n_jobs=2)]: Done  20 out of  20 | elapsed:   18.2s finished\n",
      "[Parallel(n_jobs=2)]: Using backend LokyBackend with 2 concurrent workers.\n"
     ]
    },
    {
     "name": "stdout",
     "output_type": "stream",
     "text": [
      "{'fit_time': array([0.47788191, 0.43995428, 0.42480588, 0.47237897, 0.41481376,\n",
      "       0.63653159, 0.66544867, 0.77058125, 0.84654856, 0.76045847,\n",
      "       0.78988194, 0.88223672, 0.67934036, 0.64374876, 0.58620501,\n",
      "       0.6591773 , 0.80809569, 0.7706759 , 0.62996888, 0.69156504]), 'score_time': array([1.44739056, 1.31933284, 1.32997537, 1.42518592, 1.0666523 ,\n",
      "       1.13262796, 0.85279512, 0.97995877, 0.89323378, 0.99703455,\n",
      "       0.87674451, 1.2363584 , 1.14555597, 1.0598948 , 1.25204134,\n",
      "       1.04105544, 0.95452857, 1.10375619, 1.0667398 , 0.87745881]), 'test_neg_mean_squared_error': array([-0.18119076, -0.18968194, -0.20217273, -0.18442043, -0.20143937,\n",
      "       -0.18950002, -0.1764877 , -0.20722276, -0.19155181, -0.19506735,\n",
      "       -0.17921625, -0.19418589, -0.18222519, -0.21475441, -0.17449069,\n",
      "       -0.18753361, -0.19871424, -0.18768229, -0.19215097, -0.18563128]), 'test_r2': array([0.67198893, 0.67113537, 0.61885567, 0.66269609, 0.6387369 ,\n",
      "       0.65681675, 0.67450525, 0.61307937, 0.67155397, 0.67258146,\n",
      "       0.66187516, 0.65448844, 0.65745963, 0.62301091, 0.67701242,\n",
      "       0.67399959, 0.62006732, 0.67971242, 0.66432008, 0.6654529 ]), 'test_max_error': array([-1.589977  , -2.06106033, -2.16694533, -1.60841278, -1.70651589,\n",
      "       -1.82369856, -1.443509  , -1.84191   , -2.81109911, -2.056411  ,\n",
      "       -2.21943678, -1.81934089, -1.71151733, -1.99791556, -2.00317644,\n",
      "       -1.77858433, -1.71018211, -1.94355144, -1.711966  , -2.14961144])}\n",
      "10\n"
     ]
    },
    {
     "name": "stderr",
     "output_type": "stream",
     "text": [
      "[Parallel(n_jobs=2)]: Done  20 out of  20 | elapsed:   18.7s finished\n",
      "[Parallel(n_jobs=2)]: Using backend LokyBackend with 2 concurrent workers.\n"
     ]
    },
    {
     "name": "stdout",
     "output_type": "stream",
     "text": [
      "{'fit_time': array([0.44233656, 0.42801476, 0.3657825 , 0.43227482, 0.50378609,\n",
      "       0.47137666, 0.48179388, 0.47585487, 0.48424888, 0.4525969 ,\n",
      "       0.46305656, 0.4721961 , 0.52208281, 0.52792978, 0.59308696,\n",
      "       0.49905753, 0.48386121, 0.41925621, 0.44685841, 0.45270681]), 'score_time': array([1.48753285, 1.3951633 , 1.24713373, 1.34806848, 1.29096627,\n",
      "       1.34732413, 1.29400849, 1.2851491 , 1.35971165, 1.37476873,\n",
      "       1.25549412, 1.36850429, 1.37481618, 1.43995261, 1.4457283 ,\n",
      "       1.29926538, 1.50435352, 1.51871157, 1.5317812 , 1.45598245]), 'test_neg_mean_squared_error': array([-0.18179399, -0.18700342, -0.20244906, -0.1835998 , -0.19615716,\n",
      "       -0.18521318, -0.17601706, -0.20635992, -0.18991478, -0.19350074,\n",
      "       -0.17648765, -0.19304249, -0.1803506 , -0.21013433, -0.17206187,\n",
      "       -0.18596021, -0.19576982, -0.18737906, -0.18862253, -0.18456642]), 'test_r2': array([0.6708969 , 0.6757793 , 0.61833472, 0.66419702, 0.64821007,\n",
      "       0.66458018, 0.67537326, 0.61469043, 0.67436091, 0.67521099,\n",
      "       0.66702316, 0.65652287, 0.6609834 , 0.6311212 , 0.68150823,\n",
      "       0.67673472, 0.62569691, 0.68022988, 0.67048412, 0.66737202]), 'test_max_error': array([-1.546294 , -1.9908642, -2.2620876, -1.5826317, -1.7512861,\n",
      "       -1.8749905, -1.4848686, -1.8387606, -2.6134615, -2.0440255,\n",
      "       -2.2526227, -1.6772174, -1.6876953, -2.0079634, -1.9029968,\n",
      "       -1.7278313, -1.6210123, -1.9136288, -1.6512995, -2.1889469])}\n",
      "11\n"
     ]
    },
    {
     "name": "stderr",
     "output_type": "stream",
     "text": [
      "[Parallel(n_jobs=2)]: Done  20 out of  20 | elapsed:   18.1s finished\n",
      "[Parallel(n_jobs=2)]: Using backend LokyBackend with 2 concurrent workers.\n"
     ]
    },
    {
     "name": "stdout",
     "output_type": "stream",
     "text": [
      "{'fit_time': array([0.40719366, 0.42268825, 0.40113211, 0.41629314, 0.47751212,\n",
      "       0.57108521, 0.48500133, 0.50773311, 0.50448895, 0.61569405,\n",
      "       0.73298526, 0.66495085, 0.61153698, 0.86393881, 0.64296603,\n",
      "       0.68401527, 0.61761165, 0.66255116, 0.548841  , 0.44398832]), 'score_time': array([1.43473387, 1.5152812 , 1.3545804 , 1.44467282, 1.58000898,\n",
      "       1.53756499, 1.32646704, 1.37848377, 0.9835968 , 1.22502851,\n",
      "       1.07575464, 1.07068181, 0.96492052, 1.07927465, 0.87401676,\n",
      "       1.01179147, 0.97172189, 1.19148374, 1.186095  , 0.73213267]), 'test_neg_mean_squared_error': array([-0.18082074, -0.18639775, -0.19865261, -0.18363963, -0.19204741,\n",
      "       -0.1848503 , -0.17654241, -0.20567286, -0.18802433, -0.19185224,\n",
      "       -0.17333434, -0.18988019, -0.17972248, -0.20837624, -0.17122168,\n",
      "       -0.18885191, -0.19427373, -0.18344639, -0.18866399, -0.18318294]), 'test_r2': array([0.67265878, 0.67682938, 0.62549195, 0.66412418, 0.65558052,\n",
      "       0.66523736, 0.67440435, 0.6159733 , 0.6776024 , 0.67797797,\n",
      "       0.67297247, 0.66214949, 0.66216413, 0.63420743, 0.68306345,\n",
      "       0.67170791, 0.62855736, 0.68694115, 0.67041169, 0.66986534]), 'test_max_error': array([-1.59291827, -1.99729482, -2.21109355, -1.58326918, -1.73258273,\n",
      "       -1.95784145, -1.43248409, -1.85553027, -2.61640945, -1.97962409,\n",
      "       -2.14216973, -1.78598218, -1.650801  , -1.98538882, -1.97459691,\n",
      "       -1.81344327, -1.69052418, -1.84825173, -1.64358027, -2.24798573])}\n",
      "12\n"
     ]
    },
    {
     "name": "stderr",
     "output_type": "stream",
     "text": [
      "[Parallel(n_jobs=2)]: Done  20 out of  20 | elapsed:   17.0s finished\n",
      "[Parallel(n_jobs=2)]: Using backend LokyBackend with 2 concurrent workers.\n"
     ]
    },
    {
     "name": "stdout",
     "output_type": "stream",
     "text": [
      "{'fit_time': array([0.43293715, 0.45403886, 0.37079501, 0.44448996, 0.50386763,\n",
      "       0.4624052 , 0.4185257 , 0.4287703 , 0.52214193, 0.4566288 ,\n",
      "       0.46483994, 0.69260359, 0.58976793, 0.63415265, 0.62822866,\n",
      "       0.65071607, 0.60331225, 0.66082144, 0.52136374, 0.8128159 ]), 'score_time': array([1.43112612, 1.52351546, 1.31610847, 1.37476301, 1.33475018,\n",
      "       1.30023599, 1.0667305 , 1.22082114, 1.09741926, 1.14705777,\n",
      "       0.94549203, 1.09264851, 0.86039734, 0.85908914, 0.99269414,\n",
      "       0.9017055 , 1.19406343, 0.90607309, 0.99678731, 0.90573502]), 'test_neg_mean_squared_error': array([-0.17697486, -0.18567352, -0.20012668, -0.18242417, -0.19043706,\n",
      "       -0.18289812, -0.1754335 , -0.20303309, -0.18837512, -0.19096915,\n",
      "       -0.17125075, -0.1903392 , -0.17950134, -0.206344  , -0.17151535,\n",
      "       -0.18791592, -0.1896113 , -0.18313371, -0.19014662, -0.1825225 ]), 'test_r2': array([0.67962102, 0.67808503, 0.62271298, 0.66634724, 0.65846853,\n",
      "       0.66877274, 0.67644951, 0.62090221, 0.6770009 , 0.67946025,\n",
      "       0.67690356, 0.66133279, 0.66257981, 0.6377749 , 0.68251985,\n",
      "       0.673335  , 0.63747173, 0.68747475, 0.66782159, 0.67105559]), 'test_max_error': array([-1.5700045 , -2.03967233, -2.2331835 , -1.54014467, -1.83627842,\n",
      "       -1.93947475, -1.42345942, -1.86557225, -2.56368542, -1.97753825,\n",
      "       -2.05672375, -1.8026485 , -1.76848858, -1.91382192, -1.94147842,\n",
      "       -2.00556525, -1.62235275, -1.91789158, -1.67600375, -2.21321533])}\n",
      "13\n"
     ]
    },
    {
     "name": "stderr",
     "output_type": "stream",
     "text": [
      "[Parallel(n_jobs=2)]: Done  20 out of  20 | elapsed:   17.5s finished\n",
      "[Parallel(n_jobs=2)]: Using backend LokyBackend with 2 concurrent workers.\n"
     ]
    },
    {
     "name": "stdout",
     "output_type": "stream",
     "text": [
      "{'fit_time': array([0.42250347, 0.42905641, 0.37780547, 0.4773829 , 0.43876028,\n",
      "       0.43917131, 0.38621497, 0.45700765, 0.48372555, 0.5236721 ,\n",
      "       0.61597466, 0.52912807, 0.48181486, 0.62034082, 0.59240222,\n",
      "       0.61288881, 0.61155891, 0.72767878, 0.77690434, 0.62820888]), 'score_time': array([1.4387393 , 1.51074672, 1.3154819 , 1.35817361, 1.41385913,\n",
      "       1.36314702, 1.17786574, 1.21428609, 1.23014927, 1.29857278,\n",
      "       1.35000849, 1.34824586, 1.02068901, 1.11531973, 0.89084673,\n",
      "       1.00505543, 0.86252022, 0.84787416, 1.0991776 , 0.9458077 ]), 'test_neg_mean_squared_error': array([-0.17851243, -0.18561204, -0.20121271, -0.1822632 , -0.18911053,\n",
      "       -0.18458653, -0.17434539, -0.20261444, -0.18775709, -0.19075797,\n",
      "       -0.1715033 , -0.18965597, -0.17783688, -0.20422235, -0.17171142,\n",
      "       -0.18681998, -0.18942918, -0.1806199 , -0.18697602, -0.18408338]), 'test_r2': array([0.67683754, 0.67819164, 0.62066554, 0.66664166, 0.66084755,\n",
      "       0.66571504, 0.67845631, 0.6216839 , 0.67806062, 0.6798147 ,\n",
      "       0.67642707, 0.66254845, 0.66570861, 0.64149934, 0.68215693,\n",
      "       0.67524014, 0.63781993, 0.69176468, 0.67336051, 0.66824254]), 'test_max_error': array([-1.62157454, -2.07343723, -2.29248838, -1.54483154, -1.77647146,\n",
      "       -1.86281692, -1.41265569, -1.90889023, -2.63466054, -2.02499392,\n",
      "       -1.94259   , -1.84031715, -1.82927877, -1.90819669, -1.94030169,\n",
      "       -1.94906438, -1.626784  , -1.95734308, -1.61959177, -2.15604669])}\n",
      "14\n",
      "{'fit_time': array([0.42435145, 0.41315079, 0.40345144, 0.47274709, 0.46647239,\n",
      "       0.42686439, 0.4180944 , 0.39368558, 0.46850348, 0.47294331,\n",
      "       0.50433707, 0.54301167, 0.60970187, 0.58888197, 0.60721421,\n",
      "       0.66160369, 0.60193586, 0.69513559, 0.7516923 , 0.76441884]), 'score_time': array([1.42239738, 1.29853129, 1.25312614, 1.30113721, 1.3515873 ,\n",
      "       1.30896997, 1.27648211, 1.4277916 , 1.16831851, 1.24053788,\n",
      "       1.06909895, 1.20814371, 1.16083145, 1.2361598 , 0.98567724,\n",
      "       1.00409508, 0.86686397, 0.99358273, 0.85094428, 0.85816407]), 'test_neg_mean_squared_error': array([-0.18055556, -0.18663216, -0.19800185, -0.18310435, -0.18930114,\n",
      "       -0.18335679, -0.17452013, -0.20226083, -0.18726347, -0.18813811,\n",
      "       -0.17012952, -0.19114526, -0.17550707, -0.20394734, -0.17110475,\n",
      "       -0.18509087, -0.18762778, -0.18105035, -0.18648578, -0.18174455]), 'test_r2': array([0.67313884, 0.67642299, 0.62671879, 0.66510319, 0.66050571,\n",
      "       0.66794209, 0.67813402, 0.62234414, 0.67890701, 0.68421212,\n",
      "       0.67901895, 0.65989858, 0.67008811, 0.6419821 , 0.68327989,\n",
      "       0.67824595, 0.64126413, 0.6910301 , 0.67421694, 0.67245762]), 'test_max_error': array([-1.55737807, -2.08626943, -2.27731379, -1.53415421, -1.71453307,\n",
      "       -1.80079943, -1.48459386, -1.81702929, -2.68656207, -1.9944325 ,\n",
      "       -1.97462186, -1.92486693, -1.88382964, -1.93799586, -1.9875275 ,\n",
      "       -1.92236436, -1.57709536, -1.9673235 , -1.59611543, -2.09547   ])}\n",
      "[0.5383577136749247, 0.5916582453271726, 0.615298944204828, 0.6305810596823879, 0.6408165146908715, 0.6476618116547322, 0.6520115135897273, 0.6564674304048004, 0.6599655146745045, 0.6623960311155187, 0.6643044998329719, 0.6650841349702874, 0.6662455643707544]\n"
     ]
    },
    {
     "name": "stderr",
     "output_type": "stream",
     "text": [
      "[Parallel(n_jobs=2)]: Done  20 out of  20 | elapsed:   17.5s finished\n"
     ]
    }
   ],
   "source": [
    "# Higher k for lower variance, higher bias\n",
    "#Give us the r^2 for each k\n",
    "for i in range(5, 15):\n",
    "    print(i)\n",
    "    result, knnr = knnrInvestigate(i)\n",
    "    results.append(result)\n",
    "    knnrs.append(knnr)\n",
    "print( [np.mean(knn['test_r2']) for knn in results])\n",
    "\n"
   ]
  },
  {
   "cell_type": "code",
   "execution_count": 40,
   "metadata": {},
   "outputs": [
    {
     "name": "stdout",
     "output_type": "stream",
     "text": [
      "\n",
      "knnr all r2: 0.7321807387737242\n",
      "knnr all explained_variance_score: 0.7326993267717364\n",
      "knnr all max_error: 2.5496880000000006\n",
      "knnr all mean absolute error: 0.30029339149466344\n",
      "knnr all mean squared error: 0.14899199602569294\n"
     ]
    },
    {
     "data": {
      "image/png": "[encoded data removed]",
      "text/plain": [
       "<Figure size 432x288 with 2 Axes>"
      ]
     },
     "metadata": {
      "needs_background": "light"
     },
     "output_type": "display_data"
    }
   ],
   "source": [
    "# Having selected the best k, fit and compare on all data for comparison to other methods\n",
    "# Here we can see how bias and variance (as represented by r2 and max error) can be traded off\n",
    "fig = plt.figure()\n",
    "f1 = fig.add_subplot(1,2,1)\n",
    "f1.plot(range(2,15), [np.mean(knn['test_r2']) for knn in results])\n",
    "f1.set_xlabel(\"k\")\n",
    "f1.set_ylabel(\"mean r2\")\n",
    "f1.set_title(\"K-NN r2\")\n",
    "f2 = fig.add_subplot(1,2,2)\n",
    "f2.plot(range(2,15), [np.mean(knn['test_max_error']) for knn in results])\n",
    "f2.set_xlabel(\"k\")\n",
    "f2.set_ylabel(\"max error\")\n",
    "f2.set_title(\"K-NN error\")\n",
    "# We choose 7 as it gives a nice trade off of max error and the bias (approximated by r^2)\n",
    "knnrpipe = knnrs[6] \n",
    "knnrpipe.fit(X,y)  \n",
    "print();\n",
    "print_all_metrics(\"knnr all\", y, knnrpipe.predict(X))\n",
    "\n",
    "# even with using the whole training set we still get a large max error that is why we do not choose it \n",
    "#(NOT DUE TO OVERFITTING!)"
   ]
  },
  {
   "cell_type": "markdown",
   "metadata": {},
   "source": [
    "# Neural Networks"
   ]
  },
  {
   "cell_type": "code",
   "execution_count": 41,
   "metadata": {},
   "outputs": [],
   "source": [
    "## Get non-winsorized data Prepare training data since NNs we want to be trained with greater data samples\n",
    "peruTraining = peru.copy(deep=True)\n",
    "peruTraining.dropna(axis='index', inplace=True)\n",
    "peruTraining.drop(['id_for_matlab', 'poor', 'hhid', 'training', 'percapitaconsumption', 'lncaphat_OLS', 'percapitahat_OLS'], axis='columns', inplace=True)\n",
    "peruTraining.head()\n",
    "y = peruTraining['lnpercapitaconsumption']\n",
    "X = peruTraining.drop('lnpercapitaconsumption', axis='columns')\n",
    "\n",
    "\n",
    "X_train, X_test, y_train, y_test = train_test_split(X, y, random_state=43, train_size=0.8)"
   ]
  },
  {
   "cell_type": "code",
   "execution_count": 42,
   "metadata": {},
   "outputs": [
    {
     "name": "stdout",
     "output_type": "stream",
     "text": [
      "mlplogistic r2: 0.5709082284233956\n",
      "mlplogistic explained_variance_score: 0.5727545089826864\n",
      "mlplogistic max_error: 2.132605226582373\n",
      "mlplogistic mean absolute error: 0.3746274538290009\n",
      "mlplogistic mean squared error: 0.23437965623487594\n"
     ]
    }
   ],
   "source": [
    "# logistic sigmoid function, returns f(x) = 1 / (1 + exp(-x)).\n",
    "# alpha = L2 penalty (regularization term) parameter\n",
    "# Tol = Tolerance for the optimization. When the loss or score is not improving by at least tol\n",
    "mlplogistic= MLPRegressor(max_iter=50000,  activation='logistic', tol=1e-6)\n",
    "mlplogisticpipe = Pipeline([('preprocessor', preprocessor), ('regressor', mlplogistic)])\n",
    "mlplogisticpipe.fit(X_train, y_train)\n",
    "## Using default tolerance\n",
    "print_all_metrics(\"mlplogistic\", y_test, mlplogisticpipe.predict(X_test))"
   ]
  },
  {
   "cell_type": "code",
   "execution_count": 43,
   "metadata": {},
   "outputs": [
    {
     "name": "stdout",
     "output_type": "stream",
     "text": [
      "mlp r2: 0.7017000369510464\n",
      "mlp explained_variance_score: 0.7021750378760669\n",
      "mlp max_error: 2.1043992510018796\n",
      "mlp mean absolute error: 0.3127527649812896\n",
      "mlp mean squared error: 0.16293820442512993\n"
     ]
    }
   ],
   "source": [
    "# Here due to training times, we go to a single train / test, no CV - even with less data, it performs better that is why we choose it\n",
    "# Bad Bias-Variance Trade off?? Quite high variance of MSE for different runs\n",
    "alpha=1e-2\n",
    "from sklearn.neural_network import MLPRegressor\n",
    "mlp= MLPRegressor(max_iter=50000, activation='logistic', alpha=alpha, tol=1e-6)\n",
    "mlppipe = Pipeline([('preprocessor', preprocessor), ('regressor', mlp)])\n",
    "mlppipe.fit(X_train, y_train)\n",
    "\n",
    "##\n",
    "print_all_metrics(\"mlp\", y_test, mlppipe.predict(X_test))"
   ]
  },
  {
   "cell_type": "code",
   "execution_count": 44,
   "metadata": {},
   "outputs": [
    {
     "name": "stdout",
     "output_type": "stream",
     "text": [
      "mlptanh r2: 0.6804122441382706\n",
      "mlptanh explained_variance_score: 0.6940370817259585\n",
      "mlptanh max_error: 2.2808812903799396\n",
      "mlptanh mean absolute error: 0.3250533310813521\n",
      "mlptanh mean squared error: 0.17456607960699397\n"
     ]
    }
   ],
   "source": [
    "#alpha=1e-2\n",
    "mlptanh= MLPRegressor(max_iter=50000, activation='tanh', alpha=alpha, tol=1e-6)\n",
    "mlptanhpipe = Pipeline([('preprocessor', preprocessor), ('regressor', mlptanh)])\n",
    "mlptanhpipe.fit(X_train, y_train)\n",
    "##\n",
    "print_all_metrics(\"mlptanh\", y_test, mlptanhpipe.predict(X_test))"
   ]
  },
  {
   "cell_type": "markdown",
   "metadata": {},
   "source": [
    "# Random Forest"
   ]
  },
  {
   "cell_type": "code",
   "execution_count": 51,
   "metadata": {},
   "outputs": [],
   "source": [
    "#With winsorizing as RF are sensitive to outliers\n",
    "peruTraining['h_hhsize'].value_counts(dropna=False).sort_index(ascending = True)\n",
    "from scipy.stats.mstats import winsorize\n",
    "winsorize(a=peruTraining['h_hhsize'], limits=[0., 0.05], inplace=True)\n",
    "peruTraining['h_hhsize'].value_counts(dropna=False).sort_index(ascending = True)\n",
    "y = peruTraining['lnpercapitaconsumption']\n",
    "X = peruTraining.drop('lnpercapitaconsumption', axis='columns')"
   ]
  },
  {
   "cell_type": "code",
   "execution_count": 52,
   "metadata": {},
   "outputs": [
    {
     "name": "stdout",
     "output_type": "stream",
     "text": [
      "rrfr r2: 0.6528106748225835\n",
      "rrfr explained_variance_score: 0.6530854472534519\n",
      "rrfr max_error: 2.157331329999997\n",
      "rrfr mean absolute error: 0.3387776076503909\n",
      "rrfr mean squared error: 0.1896426826935179\n"
     ]
    }
   ],
   "source": [
    "#With winsorizing\n",
    "rrfr = RandomForestRegressor(criterion=\"mse\", random_state=44)\n",
    "rrfrpipe = Pipeline([('preprocessor', preprocessor), ('regressor', rrfr)])\n",
    "rrfrpipe.fit(X_train, y_train)\n",
    "print_all_metrics(\"rrfr\", y_test, rrfrpipe.predict(X_test))"
   ]
  },
  {
   "cell_type": "code",
   "execution_count": 53,
   "metadata": {},
   "outputs": [
    {
     "name": "stdout",
     "output_type": "stream",
     "text": [
      "extr r2: 0.5417373380121913\n",
      "extr explained_variance_score: 0.5419227462901574\n",
      "extr max_error: 2.6740565700000074\n",
      "extr mean absolute error: 0.38276324685726365\n",
      "extr mean squared error: 0.25031345809157907\n"
     ]
    }
   ],
   "source": [
    "extr = ExtraTreesRegressor(criterion=\"mse\", random_state=44)\n",
    "extrpipe = Pipeline([('preprocessor', preprocessor), ('regressor', extr)])\n",
    "extrpipe.fit(X_train, y_train)\n",
    "print_all_metrics(\"extr\", y_test, extrpipe.predict(X_test))"
   ]
  },
  {
   "cell_type": "markdown",
   "metadata": {},
   "source": [
    "# Kernel Ridge"
   ]
  },
  {
   "cell_type": "code",
   "execution_count": 59,
   "metadata": {},
   "outputs": [
    {
     "name": "stderr",
     "output_type": "stream",
     "text": [
      "[Parallel(n_jobs=2)]: Using backend LokyBackend with 2 concurrent workers.\n",
      "[Parallel(n_jobs=2)]: Done   2 out of   2 | elapsed:   11.9s remaining:    0.0s\n",
      "[Parallel(n_jobs=2)]: Done   2 out of   2 | elapsed:   12.0s finished\n",
      "[Parallel(n_jobs=2)]: Using backend LokyBackend with 2 concurrent workers.\n",
      "[Parallel(n_jobs=2)]: Done   2 out of   2 | elapsed:   10.7s remaining:    0.0s\n",
      "[Parallel(n_jobs=2)]: Done   2 out of   2 | elapsed:   10.7s finished\n",
      "[Parallel(n_jobs=2)]: Using backend LokyBackend with 2 concurrent workers.\n",
      "[Parallel(n_jobs=2)]: Done   2 out of   2 | elapsed:   10.8s remaining:    0.0s\n",
      "[Parallel(n_jobs=2)]: Done   2 out of   2 | elapsed:   10.8s finished\n",
      "[Parallel(n_jobs=2)]: Using backend LokyBackend with 2 concurrent workers.\n",
      "[Parallel(n_jobs=2)]: Done   2 out of   2 | elapsed:   10.8s remaining:    0.0s\n",
      "[Parallel(n_jobs=2)]: Done   2 out of   2 | elapsed:   10.8s finished\n"
     ]
    }
   ],
   "source": [
    "# with winsoirzing\n",
    "kridgepipe = None\n",
    "def kridgeInvestigate(alpha, cv=2):\n",
    "\n",
    "  # Find what sort of magnitude we should be using\n",
    "  kridge = KernelRidge(alpha=alpha, kernel='poly', degree=2, kernel_params={'interaction_only': True})\n",
    "  kridgepipe = Pipeline([('preprocessor', preprocessor), ('regressor', kridge)])\n",
    "  return cross_validate(kridgepipe, X, y, scoring=scorers, cv=cv, n_jobs=2, pre_dispatch=4, verbose=True)\n",
    "\n",
    "kridges = [kridgeInvestigate(0.1),\n",
    "           kridgeInvestigate(0.1),\n",
    "           kridgeInvestigate(0.25),\n",
    "           kridgeInvestigate(0.5)]\n",
    "\n"
   ]
  },
  {
   "cell_type": "code",
   "execution_count": 60,
   "metadata": {},
   "outputs": [
    {
     "data": {
      "text/plain": [
       "[{'fit_time': array([10.05922341, 10.10813189]),\n",
       "  'score_time': array([0.97238588, 0.95875812]),\n",
       "  'test_neg_mean_squared_error': array([-0.16528215, -0.16244818]),\n",
       "  'test_r2': array([0.70361634, 0.70723588]),\n",
       "  'test_max_error': array([-2.73959979, -2.00233467])},\n",
       " {'fit_time': array([9.95388365, 9.71328306]),\n",
       "  'score_time': array([0.72763753, 0.78241086]),\n",
       "  'test_neg_mean_squared_error': array([-0.16528215, -0.16244818]),\n",
       "  'test_r2': array([0.70361634, 0.70723588]),\n",
       "  'test_max_error': array([-2.73959979, -2.00233467])},\n",
       " {'fit_time': array([9.82847691, 9.87150598]),\n",
       "  'score_time': array([0.96470857, 0.91196728]),\n",
       "  'test_neg_mean_squared_error': array([-0.16496047, -0.16228652]),\n",
       "  'test_r2': array([0.70419318, 0.70752721]),\n",
       "  'test_max_error': array([-2.80929109, -1.9994108 ])},\n",
       " {'fit_time': array([ 9.81595898, 10.04114223]),\n",
       "  'score_time': array([0.81706548, 0.70110893]),\n",
       "  'test_neg_mean_squared_error': array([-0.1655257 , -0.16287303]),\n",
       "  'test_r2': array([0.70317961, 0.70647021]),\n",
       "  'test_max_error': array([-2.86261695, -2.01130013])}]"
      ]
     },
     "execution_count": 60,
     "metadata": {},
     "output_type": "execute_result"
    }
   ],
   "source": [
    "kridges"
   ]
  },
  {
   "cell_type": "code",
   "execution_count": 61,
   "metadata": {},
   "outputs": [
    {
     "name": "stderr",
     "output_type": "stream",
     "text": [
      "[Parallel(n_jobs=2)]: Using backend LokyBackend with 2 concurrent workers.\n",
      "[Parallel(n_jobs=2)]: Done   2 out of   2 | elapsed:   16.3s remaining:    0.0s\n",
      "[Parallel(n_jobs=2)]: Done   2 out of   2 | elapsed:   16.3s finished\n",
      "[Parallel(n_jobs=2)]: Using backend LokyBackend with 2 concurrent workers.\n",
      "[Parallel(n_jobs=2)]: Done   2 out of   2 | elapsed:   17.0s remaining:    0.0s\n",
      "[Parallel(n_jobs=2)]: Done   2 out of   2 | elapsed:   17.0s finished\n",
      "[Parallel(n_jobs=2)]: Using backend LokyBackend with 2 concurrent workers.\n",
      "[Parallel(n_jobs=2)]: Done   2 out of   2 | elapsed:   17.6s remaining:    0.0s\n",
      "[Parallel(n_jobs=2)]: Done   2 out of   2 | elapsed:   17.6s finished\n",
      "[Parallel(n_jobs=2)]: Using backend LokyBackend with 2 concurrent workers.\n",
      "[Parallel(n_jobs=2)]: Done   2 out of   2 | elapsed:   16.5s remaining:    0.0s\n",
      "[Parallel(n_jobs=2)]: Done   2 out of   2 | elapsed:   16.5s finished\n",
      "[Parallel(n_jobs=2)]: Using backend LokyBackend with 2 concurrent workers.\n",
      "[Parallel(n_jobs=2)]: Done   2 out of   2 | elapsed:   16.3s remaining:    0.0s\n",
      "[Parallel(n_jobs=2)]: Done   2 out of   2 | elapsed:   16.3s finished\n",
      "[Parallel(n_jobs=2)]: Using backend LokyBackend with 2 concurrent workers.\n",
      "[Parallel(n_jobs=2)]: Done   2 out of   2 | elapsed:   16.2s remaining:    0.0s\n",
      "[Parallel(n_jobs=2)]: Done   2 out of   2 | elapsed:   16.2s finished\n",
      "[Parallel(n_jobs=2)]: Using backend LokyBackend with 2 concurrent workers.\n",
      "[Parallel(n_jobs=2)]: Done   2 out of   2 | elapsed:   17.1s remaining:    0.0s\n",
      "[Parallel(n_jobs=2)]: Done   2 out of   2 | elapsed:   17.1s finished\n",
      "[Parallel(n_jobs=2)]: Using backend LokyBackend with 2 concurrent workers.\n",
      "[Parallel(n_jobs=2)]: Done   2 out of   2 | elapsed:   16.9s remaining:    0.0s\n",
      "[Parallel(n_jobs=2)]: Done   2 out of   2 | elapsed:   16.9s finished\n",
      "[Parallel(n_jobs=2)]: Using backend LokyBackend with 2 concurrent workers.\n",
      "[Parallel(n_jobs=2)]: Done   2 out of   2 | elapsed:   17.4s remaining:    0.0s\n",
      "[Parallel(n_jobs=2)]: Done   2 out of   2 | elapsed:   17.4s finished\n",
      "[Parallel(n_jobs=2)]: Using backend LokyBackend with 2 concurrent workers.\n",
      "[Parallel(n_jobs=2)]: Done   2 out of   2 | elapsed:   16.5s remaining:    0.0s\n",
      "[Parallel(n_jobs=2)]: Done   2 out of   2 | elapsed:   16.5s finished\n",
      "[Parallel(n_jobs=2)]: Using backend LokyBackend with 2 concurrent workers.\n",
      "[Parallel(n_jobs=2)]: Done   2 out of   2 | elapsed:   16.4s remaining:    0.0s\n",
      "[Parallel(n_jobs=2)]: Done   2 out of   2 | elapsed:   16.4s finished\n",
      "[Parallel(n_jobs=2)]: Using backend LokyBackend with 2 concurrent workers.\n",
      "[Parallel(n_jobs=2)]: Done   2 out of   2 | elapsed:   16.5s remaining:    0.0s\n",
      "[Parallel(n_jobs=2)]: Done   2 out of   2 | elapsed:   16.5s finished\n",
      "[Parallel(n_jobs=2)]: Using backend LokyBackend with 2 concurrent workers.\n",
      "[Parallel(n_jobs=2)]: Done   2 out of   2 | elapsed:   16.6s remaining:    0.0s\n",
      "[Parallel(n_jobs=2)]: Done   2 out of   2 | elapsed:   16.6s finished\n",
      "[Parallel(n_jobs=2)]: Using backend LokyBackend with 2 concurrent workers.\n",
      "[Parallel(n_jobs=2)]: Done   2 out of   2 | elapsed:   16.2s remaining:    0.0s\n",
      "[Parallel(n_jobs=2)]: Done   2 out of   2 | elapsed:   16.2s finished\n",
      "[Parallel(n_jobs=2)]: Using backend LokyBackend with 2 concurrent workers.\n",
      "[Parallel(n_jobs=2)]: Done   2 out of   2 | elapsed:   16.2s remaining:    0.0s\n",
      "[Parallel(n_jobs=2)]: Done   2 out of   2 | elapsed:   16.2s finished\n",
      "[Parallel(n_jobs=2)]: Using backend LokyBackend with 2 concurrent workers.\n",
      "[Parallel(n_jobs=2)]: Done   2 out of   2 | elapsed:   16.2s remaining:    0.0s\n",
      "[Parallel(n_jobs=2)]: Done   2 out of   2 | elapsed:   16.2s finished\n",
      "[Parallel(n_jobs=2)]: Using backend LokyBackend with 2 concurrent workers.\n",
      "[Parallel(n_jobs=2)]: Done   2 out of   2 | elapsed:   16.5s remaining:    0.0s\n",
      "[Parallel(n_jobs=2)]: Done   2 out of   2 | elapsed:   16.5s finished\n",
      "[Parallel(n_jobs=2)]: Using backend LokyBackend with 2 concurrent workers.\n",
      "[Parallel(n_jobs=2)]: Done   2 out of   2 | elapsed:   16.1s remaining:    0.0s\n",
      "[Parallel(n_jobs=2)]: Done   2 out of   2 | elapsed:   16.1s finished\n",
      "[Parallel(n_jobs=2)]: Using backend LokyBackend with 2 concurrent workers.\n",
      "[Parallel(n_jobs=2)]: Done   2 out of   2 | elapsed:   16.0s remaining:    0.0s\n",
      "[Parallel(n_jobs=2)]: Done   2 out of   2 | elapsed:   16.0s finished\n",
      "[Parallel(n_jobs=2)]: Using backend LokyBackend with 2 concurrent workers.\n",
      "[Parallel(n_jobs=2)]: Done   2 out of   2 | elapsed:   16.1s remaining:    0.0s\n",
      "[Parallel(n_jobs=2)]: Done   2 out of   2 | elapsed:   16.1s finished\n",
      "[Parallel(n_jobs=2)]: Using backend LokyBackend with 2 concurrent workers.\n",
      "[Parallel(n_jobs=2)]: Done   2 out of   2 | elapsed:   17.0s remaining:    0.0s\n",
      "[Parallel(n_jobs=2)]: Done   2 out of   2 | elapsed:   17.0s finished\n",
      "[Parallel(n_jobs=2)]: Using backend LokyBackend with 2 concurrent workers.\n",
      "[Parallel(n_jobs=2)]: Done   2 out of   2 | elapsed:   16.7s remaining:    0.0s\n",
      "[Parallel(n_jobs=2)]: Done   2 out of   2 | elapsed:   16.7s finished\n",
      "[Parallel(n_jobs=2)]: Using backend LokyBackend with 2 concurrent workers.\n",
      "[Parallel(n_jobs=2)]: Done   2 out of   2 | elapsed:   16.6s remaining:    0.0s\n",
      "[Parallel(n_jobs=2)]: Done   2 out of   2 | elapsed:   16.6s finished\n",
      "[Parallel(n_jobs=2)]: Using backend LokyBackend with 2 concurrent workers.\n",
      "[Parallel(n_jobs=2)]: Done   2 out of   2 | elapsed:   16.9s remaining:    0.0s\n",
      "[Parallel(n_jobs=2)]: Done   2 out of   2 | elapsed:   16.9s finished\n",
      "[Parallel(n_jobs=2)]: Using backend LokyBackend with 2 concurrent workers.\n",
      "[Parallel(n_jobs=2)]: Done   2 out of   2 | elapsed:   16.4s remaining:    0.0s\n",
      "[Parallel(n_jobs=2)]: Done   2 out of   2 | elapsed:   16.4s finished\n",
      "[Parallel(n_jobs=2)]: Using backend LokyBackend with 2 concurrent workers.\n",
      "[Parallel(n_jobs=2)]: Done   2 out of   2 | elapsed:   16.4s remaining:    0.0s\n",
      "[Parallel(n_jobs=2)]: Done   2 out of   2 | elapsed:   16.4s finished\n",
      "[Parallel(n_jobs=2)]: Using backend LokyBackend with 2 concurrent workers.\n",
      "[Parallel(n_jobs=2)]: Done   2 out of   2 | elapsed:   17.0s remaining:    0.0s\n",
      "[Parallel(n_jobs=2)]: Done   2 out of   2 | elapsed:   17.0s finished\n",
      "[Parallel(n_jobs=2)]: Using backend LokyBackend with 2 concurrent workers.\n",
      "[Parallel(n_jobs=2)]: Done   2 out of   2 | elapsed:   17.8s remaining:    0.0s\n",
      "[Parallel(n_jobs=2)]: Done   2 out of   2 | elapsed:   17.8s finished\n",
      "[Parallel(n_jobs=2)]: Using backend LokyBackend with 2 concurrent workers.\n",
      "[Parallel(n_jobs=2)]: Done   2 out of   2 | elapsed:   16.5s remaining:    0.0s\n",
      "[Parallel(n_jobs=2)]: Done   2 out of   2 | elapsed:   16.5s finished\n",
      "[Parallel(n_jobs=2)]: Using backend LokyBackend with 2 concurrent workers.\n",
      "[Parallel(n_jobs=2)]: Done   2 out of   2 | elapsed:   16.3s remaining:    0.0s\n",
      "[Parallel(n_jobs=2)]: Done   2 out of   2 | elapsed:   16.3s finished\n",
      "[Parallel(n_jobs=2)]: Using backend LokyBackend with 2 concurrent workers.\n",
      "[Parallel(n_jobs=2)]: Done   2 out of   2 | elapsed:   16.2s remaining:    0.0s\n",
      "[Parallel(n_jobs=2)]: Done   2 out of   2 | elapsed:   16.2s finished\n",
      "[Parallel(n_jobs=2)]: Using backend LokyBackend with 2 concurrent workers.\n",
      "[Parallel(n_jobs=2)]: Done   2 out of   2 | elapsed:   16.5s remaining:    0.0s\n",
      "[Parallel(n_jobs=2)]: Done   2 out of   2 | elapsed:   16.5s finished\n",
      "[Parallel(n_jobs=2)]: Using backend LokyBackend with 2 concurrent workers.\n",
      "[Parallel(n_jobs=2)]: Done   2 out of   2 | elapsed:   16.1s remaining:    0.0s\n",
      "[Parallel(n_jobs=2)]: Done   2 out of   2 | elapsed:   16.1s finished\n",
      "[Parallel(n_jobs=2)]: Using backend LokyBackend with 2 concurrent workers.\n",
      "[Parallel(n_jobs=2)]: Done   2 out of   2 | elapsed:   16.1s remaining:    0.0s\n",
      "[Parallel(n_jobs=2)]: Done   2 out of   2 | elapsed:   16.1s finished\n",
      "[Parallel(n_jobs=2)]: Using backend LokyBackend with 2 concurrent workers.\n",
      "[Parallel(n_jobs=2)]: Done   2 out of   2 | elapsed:   16.2s remaining:    0.0s\n",
      "[Parallel(n_jobs=2)]: Done   2 out of   2 | elapsed:   16.2s finished\n",
      "[Parallel(n_jobs=2)]: Using backend LokyBackend with 2 concurrent workers.\n",
      "[Parallel(n_jobs=2)]: Done   2 out of   2 | elapsed:   16.5s remaining:    0.0s\n",
      "[Parallel(n_jobs=2)]: Done   2 out of   2 | elapsed:   16.5s finished\n",
      "[Parallel(n_jobs=2)]: Using backend LokyBackend with 2 concurrent workers.\n",
      "[Parallel(n_jobs=2)]: Done   2 out of   2 | elapsed:   16.3s remaining:    0.0s\n",
      "[Parallel(n_jobs=2)]: Done   2 out of   2 | elapsed:   16.3s finished\n",
      "[Parallel(n_jobs=2)]: Using backend LokyBackend with 2 concurrent workers.\n",
      "[Parallel(n_jobs=2)]: Done   2 out of   2 | elapsed:   16.1s remaining:    0.0s\n",
      "[Parallel(n_jobs=2)]: Done   2 out of   2 | elapsed:   16.2s finished\n",
      "[Parallel(n_jobs=2)]: Using backend LokyBackend with 2 concurrent workers.\n",
      "[Parallel(n_jobs=2)]: Done   2 out of   2 | elapsed:   16.2s remaining:    0.0s\n",
      "[Parallel(n_jobs=2)]: Done   2 out of   2 | elapsed:   16.2s finished\n",
      "[Parallel(n_jobs=2)]: Using backend LokyBackend with 2 concurrent workers.\n"
     ]
    },
    {
     "name": "stdout",
     "output_type": "stream",
     "text": [
      "[{'fit_time': array([12.58284736, 12.57299209]), 'score_time': array([3.69745517, 3.71845102]), 'test_neg_mean_squared_error': array([-0.28159198, -0.28760195]), 'test_r2': array([0.49504977, 0.48168373]), 'test_max_error': array([-2.89121076, -2.99694171])}, {'fit_time': array([13.34618449, 12.98988438]), 'score_time': array([3.6628871 , 3.72778511]), 'test_neg_mean_squared_error': array([-0.25751478, -0.26128432]), 'test_r2': array([0.53822496, 0.52911336]), 'test_max_error': array([-2.71001032, -2.91738   ])}, {'fit_time': array([13.93467426, 13.70573139]), 'score_time': array([3.6894021 , 3.61809278]), 'test_neg_mean_squared_error': array([-0.23839692, -0.24036732]), 'test_r2': array([0.57250708, 0.56680999]), 'test_max_error': array([-2.63603249, -2.84080763])}, {'fit_time': array([12.74853897, 12.75319219]), 'score_time': array([3.73135591, 3.743505  ]), 'test_neg_mean_squared_error': array([-0.22307724, -0.22385153]), 'test_r2': array([0.59997829, 0.59657475]), 'test_max_error': array([-2.54651859, -2.76608967])}, {'fit_time': array([12.57083631, 12.75855637]), 'score_time': array([3.67800021, 3.56819963]), 'test_neg_mean_squared_error': array([-0.21077149, -0.21085334]), 'test_r2': array([0.62204494, 0.62000008]), 'test_max_error': array([-2.43883329, -2.69316983])}, {'fit_time': array([12.54444289, 12.73007822]), 'score_time': array([3.61701298, 3.50063014]), 'test_neg_mean_squared_error': array([-0.20094661, -0.20061249]), 'test_r2': array([0.6396629 , 0.63845615]), 'test_max_error': array([-2.31681704, -2.62234999])}, {'fit_time': array([13.21978855, 13.34907603]), 'score_time': array([3.70772314, 3.68760395]), 'test_neg_mean_squared_error': array([-0.19318612, -0.19251076]), 'test_r2': array([0.65357899, 0.65305709]), 'test_max_error': array([-2.37585952, -2.55312553])}, {'fit_time': array([13.00926876, 13.11174846]), 'score_time': array([3.72530031, 3.73357415]), 'test_neg_mean_squared_error': array([-0.18710808, -0.18606912]), 'test_r2': array([0.66447812, 0.6646662 ]), 'test_max_error': array([-2.43655506, -2.48435794])}, {'fit_time': array([13.46145773, 13.73071027]), 'score_time': array([3.75623083, 3.68257356]), 'test_neg_mean_squared_error': array([-0.18235069, -0.18091789]), 'test_r2': array([0.67300908, 0.67394976]), 'test_max_error': array([-2.48113306, -2.41541504])}, {'fit_time': array([12.61260104, 12.89366317]), 'score_time': array([3.70140433, 3.60123897]), 'test_neg_mean_squared_error': array([-0.17859356, -0.17676353]), 'test_r2': array([0.67974635, 0.68143675]), 'test_max_error': array([-2.51242788, -2.34668425])}, {'fit_time': array([12.68218064, 12.6799705 ]), 'score_time': array([3.63169742, 3.6802094 ]), 'test_neg_mean_squared_error': array([-0.17557817, -0.17337451]), 'test_r2': array([0.68515354, 0.68754444]), 'test_max_error': array([-2.53550717, -2.27906512])}, {'fit_time': array([12.69292235, 12.85853195]), 'score_time': array([3.6213398 , 3.62915301]), 'test_neg_mean_squared_error': array([-0.17311144, -0.17058184]), 'test_r2': array([0.68957687, 0.69257739]), 'test_max_error': array([-2.55616673, -2.21350282])}, {'fit_time': array([12.910604  , 12.86716771]), 'score_time': array([3.67581749, 3.59204555]), 'test_neg_mean_squared_error': array([-0.1710572, -0.168275 ]), 'test_r2': array([0.69326053, 0.69673478]), 'test_max_error': array([-2.57921592, -2.15123921])}, {'fit_time': array([12.5131712 , 12.62599015]), 'score_time': array([3.62811303, 3.55813766]), 'test_neg_mean_squared_error': array([-0.16932681, -0.16638547]), 'test_r2': array([0.69636347, 0.70014008]), 'test_max_error': array([-2.60724032, -2.09424143])}, {'fit_time': array([12.610847  , 12.43106103]), 'score_time': array([3.55662274, 3.65597892]), 'test_neg_mean_squared_error': array([-0.16787267, -0.16486878]), 'test_r2': array([0.69897103, 0.70287347]), 'test_max_error': array([-2.64032261, -2.04504899])}, {'fit_time': array([12.48870993, 12.62767577]), 'score_time': array([3.61351275, 3.60344887]), 'test_neg_mean_squared_error': array([-0.16668164, -0.1636962 ]), 'test_r2': array([0.70110678, 0.70498669]), 'test_max_error': array([-2.67677691, -2.00599493])}, {'fit_time': array([12.72447371, 12.81525254]), 'score_time': array([3.69127846, 3.62770033]), 'test_neg_mean_squared_error': array([-0.16576635, -0.1628524 ]), 'test_r2': array([0.70274809, 0.70650738]), 'test_max_error': array([-2.71441315, -2.00170015])}, {'fit_time': array([12.46564436, 12.54294562]), 'score_time': array([3.58534908, 3.57240295]), 'test_neg_mean_squared_error': array([-0.16515446, -0.16233034]), 'test_r2': array([0.70384532, 0.70744825]), 'test_max_error': array([-2.751659  , -1.99349967])}, {'fit_time': array([12.32102203, 12.448282  ]), 'score_time': array([3.62240601, 3.54457641]), 'test_neg_mean_squared_error': array([-0.16487663, -0.16212399]), 'test_r2': array([0.70434353, 0.70782012]), 'test_max_error': array([-2.78808945, -1.97935456])}, {'fit_time': array([12.38161993, 12.43278408]), 'score_time': array([3.61502147, 3.665416  ]), 'test_neg_mean_squared_error': array([-0.16495547, -0.16222539]), 'test_r2': array([0.70420215, 0.70763738]), 'test_max_error': array([-2.82425633, -1.98525744])}, {'fit_time': array([13.09575939, 13.09311008]), 'score_time': array([3.84904909, 3.83096933]), 'test_neg_mean_squared_error': array([-0.16540184, -0.1626308 ]), 'test_r2': array([0.70340172, 0.70690676]), 'test_max_error': array([-2.86102678, -1.99316886])}, {'fit_time': array([13.08709311, 12.82784915]), 'score_time': array([3.60888553, 3.65185285]), 'test_neg_mean_squared_error': array([-0.16622785, -0.16335873]), 'test_r2': array([0.70192053, 0.70559487]), 'test_max_error': array([-2.89885702, -1.99567466])}, {'fit_time': array([12.69788933, 12.6948545 ]), 'score_time': array([3.86895585, 3.85557342]), 'test_neg_mean_squared_error': array([-0.16747723, -0.16447733]), 'test_r2': array([0.69968013, 0.70357894]), 'test_max_error': array([-2.9373413 , -1.99375631])}, {'fit_time': array([13.10533309, 13.1359458 ]), 'score_time': array([3.71223187, 3.75401163]), 'test_neg_mean_squared_error': array([-0.16925565, -0.1661288 ]), 'test_r2': array([0.69649106, 0.70060266]), 'test_max_error': array([-2.97512433, -2.00809862])}, {'fit_time': array([12.7356298 , 12.64161658]), 'score_time': array([3.62145925, 3.60798097]), 'test_neg_mean_squared_error': array([-0.1717437 , -0.16853481]), 'test_r2': array([0.69202951, 0.69626654]), 'test_max_error': array([-3.01032019, -2.02979331])}, {'fit_time': array([12.61962056, 12.53616595]), 'score_time': array([3.7376945 , 3.74292183]), 'test_neg_mean_squared_error': array([-0.17519455, -0.17198067]), 'test_r2': array([0.68584145, 0.69005642]), 'test_max_error': array([-3.04159049, -2.05377539])}, {'fit_time': array([13.21431828, 13.09194803]), 'score_time': array([3.72315717, 3.72459865]), 'test_neg_mean_squared_error': array([-0.1799267 , -0.17679569]), 'test_r2': array([0.67735577, 0.68137879]), 'test_max_error': array([-3.06917348, -2.07764981])}, {'fit_time': array([13.74826097, 13.84781313]), 'score_time': array([3.96419907, 3.92071795]), 'test_neg_mean_squared_error': array([-0.18632444, -0.18335837]), 'test_r2': array([0.66588335, 0.66955152]), 'test_max_error': array([-3.09441862, -2.09752409])}, {'fit_time': array([12.81257963, 12.80732656]), 'score_time': array([3.69668627, 3.72436452]), 'test_neg_mean_squared_error': array([-0.19487767, -0.19216237]), 'test_r2': array([0.65054571, 0.65368495]), 'test_max_error': array([-3.11767964, -2.19071366])}, {'fit_time': array([12.5965879 , 12.63746881]), 'score_time': array([3.64277887, 3.66447759]), 'test_neg_mean_squared_error': array([-0.20631003, -0.20398455]), 'test_r2': array([0.63004523, 0.63237903]), 'test_max_error': array([-3.1365762 , -2.33365536])}, {'fit_time': array([12.50815463, 12.56254649]), 'score_time': array([3.62626529, 3.61777544]), 'test_neg_mean_squared_error': array([-0.22192306, -0.22027861]), 'test_r2': array([0.60204797, 0.60301386]), 'test_max_error': array([-3.14635026, -2.4742026 ])}, {'fit_time': array([12.7813642 , 12.70220184]), 'score_time': array([3.69455338, 3.61188126]), 'test_neg_mean_squared_error': array([-0.24449064, -0.24413177]), 'test_r2': array([0.56157982, 0.5600257 ]), 'test_max_error': array([-3.14133001, -2.62258625])}, {'fit_time': array([12.51044202, 12.36583924]), 'score_time': array([3.56676722, 3.57232213]), 'test_neg_mean_squared_error': array([-0.28021019, -0.28227703]), 'test_r2': array([0.49752759, 0.4912803 ]), 'test_max_error': array([-3.1150309 , -2.79054021])}, {'fit_time': array([12.44310546, 12.42607355]), 'score_time': array([3.64461923, 3.63094163]), 'test_neg_mean_squared_error': array([-0.34254055, -0.3489426 ]), 'test_r2': array([0.38575691, 0.3711356 ]), 'test_max_error': array([-3.05804377, -2.9893951 ])}, {'fit_time': array([12.61240435, 12.32773948]), 'score_time': array([3.54216576, 3.59308887]), 'test_neg_mean_squared_error': array([-0.46031894, -0.47389411]), 'test_r2': array([0.1745569 , 0.14594799]), 'test_max_error': array([-3.00294736, -3.23032347])}, {'fit_time': array([12.79229665, 12.76651311]), 'score_time': array([3.64393425, 3.60135627]), 'test_neg_mean_squared_error': array([-0.69530618, -0.71982492]), 'test_r2': array([-0.24682179, -0.29726855]), 'test_max_error': array([-3.30675202, -3.52693663])}, {'fit_time': array([12.53125596, 12.70480108]), 'score_time': array([3.58817601, 3.56611276]), 'test_neg_mean_squared_error': array([-1.17325664, -1.21314637]), 'test_r2': array([-1.1038817 , -1.18633253]), 'test_max_error': array([-3.68992238, -3.89726227])}, {'fit_time': array([12.71193743, 12.36848307]), 'score_time': array([3.42341328, 3.6475234 ]), 'test_neg_mean_squared_error': array([-2.11799792, -2.17756077]), 'test_r2': array([-2.79799008, -2.92440029]), 'test_max_error': array([-4.17143899, -4.36009076])}, {'fit_time': array([12.49742126, 12.57748914]), 'score_time': array([3.63987875, 3.60676098]), 'test_neg_mean_squared_error': array([-3.84454876, -3.92658989]), 'test_r2': array([-5.89403794, -6.07650079]), 'test_max_error': array([-4.759007  , -4.92330249])}, {'fit_time': array([12.14390445, 12.51772547]), 'score_time': array([3.60449219, 3.54565501]), 'test_neg_mean_squared_error': array([-6.64223119, -6.7466451 ]), 'test_r2': array([-10.91083705, -11.15880462]), 'test_max_error': array([-5.43354184, -5.56904475])}]\n"
     ]
    },
    {
     "name": "stderr",
     "output_type": "stream",
     "text": [
      "[Parallel(n_jobs=2)]: Done   2 out of   2 | elapsed:   16.1s remaining:    0.0s\n",
      "[Parallel(n_jobs=2)]: Done   2 out of   2 | elapsed:   16.1s finished\n"
     ]
    }
   ],
   "source": [
    "#Kernel Poly_3\n",
    "def kridgeInvestigate(alpha, cv=2):\n",
    "\n",
    "  # Find what sort of magnitude we should be using\n",
    "  kridge = KernelRidge(alpha=alpha, kernel='poly', degree=3, kernel_params={'interaction_only': True})\n",
    "  kridgepipe = Pipeline([('preprocessor', preprocessor), ('regressor', kridge)])\n",
    "  return cross_validate(kridgepipe, X, y, scoring=scorers, cv=cv, n_jobs=2, pre_dispatch=4, verbose=True)\n",
    "\n",
    "alphas = np.logspace(-4, 4, 40)\n",
    "kridges = [kridgeInvestigate(a) for a in alphas ]\n",
    "print(kridges)\n",
    "\n"
   ]
  },
  {
   "cell_type": "code",
   "execution_count": 62,
   "metadata": {},
   "outputs": [
    {
     "name": "stderr",
     "output_type": "stream",
     "text": [
      "[Parallel(n_jobs=2)]: Using backend LokyBackend with 2 concurrent workers.\n",
      "[Parallel(n_jobs=2)]: Done   2 out of   2 | elapsed:   16.1s remaining:    0.0s\n",
      "[Parallel(n_jobs=2)]: Done   2 out of   2 | elapsed:   16.1s finished\n",
      "[Parallel(n_jobs=2)]: Using backend LokyBackend with 2 concurrent workers.\n",
      "[Parallel(n_jobs=2)]: Done   2 out of   2 | elapsed:   16.3s remaining:    0.0s\n",
      "[Parallel(n_jobs=2)]: Done   2 out of   2 | elapsed:   16.3s finished\n",
      "[Parallel(n_jobs=2)]: Using backend LokyBackend with 2 concurrent workers.\n",
      "[Parallel(n_jobs=2)]: Done   2 out of   2 | elapsed:   16.4s remaining:    0.0s\n",
      "[Parallel(n_jobs=2)]: Done   2 out of   2 | elapsed:   16.4s finished\n",
      "[Parallel(n_jobs=2)]: Using backend LokyBackend with 2 concurrent workers.\n",
      "[Parallel(n_jobs=2)]: Done   2 out of   2 | elapsed:   16.2s remaining:    0.0s\n",
      "[Parallel(n_jobs=2)]: Done   2 out of   2 | elapsed:   16.2s finished\n",
      "[Parallel(n_jobs=2)]: Using backend LokyBackend with 2 concurrent workers.\n",
      "[Parallel(n_jobs=2)]: Done   2 out of   2 | elapsed:   16.2s remaining:    0.0s\n",
      "[Parallel(n_jobs=2)]: Done   2 out of   2 | elapsed:   16.2s finished\n",
      "[Parallel(n_jobs=2)]: Using backend LokyBackend with 2 concurrent workers.\n",
      "[Parallel(n_jobs=2)]: Done   2 out of   2 | elapsed:   16.3s remaining:    0.0s\n",
      "[Parallel(n_jobs=2)]: Done   2 out of   2 | elapsed:   16.3s finished\n",
      "[Parallel(n_jobs=2)]: Using backend LokyBackend with 2 concurrent workers.\n",
      "[Parallel(n_jobs=2)]: Done   2 out of   2 | elapsed:   16.2s remaining:    0.0s\n",
      "[Parallel(n_jobs=2)]: Done   2 out of   2 | elapsed:   16.2s finished\n",
      "[Parallel(n_jobs=2)]: Using backend LokyBackend with 2 concurrent workers.\n",
      "[Parallel(n_jobs=2)]: Done   2 out of   2 | elapsed:   16.2s remaining:    0.0s\n",
      "[Parallel(n_jobs=2)]: Done   2 out of   2 | elapsed:   16.2s finished\n",
      "[Parallel(n_jobs=2)]: Using backend LokyBackend with 2 concurrent workers.\n",
      "[Parallel(n_jobs=2)]: Done   2 out of   2 | elapsed:   16.2s remaining:    0.0s\n",
      "[Parallel(n_jobs=2)]: Done   2 out of   2 | elapsed:   16.2s finished\n",
      "[Parallel(n_jobs=2)]: Using backend LokyBackend with 2 concurrent workers.\n",
      "[Parallel(n_jobs=2)]: Done   2 out of   2 | elapsed:   16.3s remaining:    0.0s\n",
      "[Parallel(n_jobs=2)]: Done   2 out of   2 | elapsed:   16.3s finished\n",
      "[Parallel(n_jobs=2)]: Using backend LokyBackend with 2 concurrent workers.\n",
      "[Parallel(n_jobs=2)]: Done   2 out of   2 | elapsed:   16.4s remaining:    0.0s\n",
      "[Parallel(n_jobs=2)]: Done   2 out of   2 | elapsed:   16.4s finished\n",
      "[Parallel(n_jobs=2)]: Using backend LokyBackend with 2 concurrent workers.\n",
      "[Parallel(n_jobs=2)]: Done   2 out of   2 | elapsed:   16.2s remaining:    0.0s\n",
      "[Parallel(n_jobs=2)]: Done   2 out of   2 | elapsed:   16.2s finished\n",
      "[Parallel(n_jobs=2)]: Using backend LokyBackend with 2 concurrent workers.\n",
      "[Parallel(n_jobs=2)]: Done   2 out of   2 | elapsed:   16.2s remaining:    0.0s\n",
      "[Parallel(n_jobs=2)]: Done   2 out of   2 | elapsed:   16.2s finished\n",
      "[Parallel(n_jobs=2)]: Using backend LokyBackend with 2 concurrent workers.\n",
      "[Parallel(n_jobs=2)]: Done   2 out of   2 | elapsed:   16.1s remaining:    0.0s\n",
      "[Parallel(n_jobs=2)]: Done   2 out of   2 | elapsed:   16.1s finished\n",
      "[Parallel(n_jobs=2)]: Using backend LokyBackend with 2 concurrent workers.\n",
      "[Parallel(n_jobs=2)]: Done   2 out of   2 | elapsed:   16.1s remaining:    0.0s\n",
      "[Parallel(n_jobs=2)]: Done   2 out of   2 | elapsed:   16.1s finished\n",
      "[Parallel(n_jobs=2)]: Using backend LokyBackend with 2 concurrent workers.\n",
      "[Parallel(n_jobs=2)]: Done   2 out of   2 | elapsed:   16.7s remaining:    0.0s\n",
      "[Parallel(n_jobs=2)]: Done   2 out of   2 | elapsed:   16.7s finished\n",
      "[Parallel(n_jobs=2)]: Using backend LokyBackend with 2 concurrent workers.\n",
      "[Parallel(n_jobs=2)]: Done   2 out of   2 | elapsed:   16.2s remaining:    0.0s\n",
      "[Parallel(n_jobs=2)]: Done   2 out of   2 | elapsed:   16.2s finished\n",
      "[Parallel(n_jobs=2)]: Using backend LokyBackend with 2 concurrent workers.\n",
      "[Parallel(n_jobs=2)]: Done   2 out of   2 | elapsed:   16.4s remaining:    0.0s\n",
      "[Parallel(n_jobs=2)]: Done   2 out of   2 | elapsed:   16.4s finished\n",
      "[Parallel(n_jobs=2)]: Using backend LokyBackend with 2 concurrent workers.\n",
      "[Parallel(n_jobs=2)]: Done   2 out of   2 | elapsed:   16.2s remaining:    0.0s\n",
      "[Parallel(n_jobs=2)]: Done   2 out of   2 | elapsed:   16.2s finished\n",
      "[Parallel(n_jobs=2)]: Using backend LokyBackend with 2 concurrent workers.\n",
      "[Parallel(n_jobs=2)]: Done   2 out of   2 | elapsed:   16.2s remaining:    0.0s\n",
      "[Parallel(n_jobs=2)]: Done   2 out of   2 | elapsed:   16.2s finished\n",
      "[Parallel(n_jobs=2)]: Using backend LokyBackend with 2 concurrent workers.\n",
      "[Parallel(n_jobs=2)]: Done   2 out of   2 | elapsed:   16.1s remaining:    0.0s\n",
      "[Parallel(n_jobs=2)]: Done   2 out of   2 | elapsed:   16.1s finished\n",
      "[Parallel(n_jobs=2)]: Using backend LokyBackend with 2 concurrent workers.\n",
      "[Parallel(n_jobs=2)]: Done   2 out of   2 | elapsed:   16.2s remaining:    0.0s\n",
      "[Parallel(n_jobs=2)]: Done   2 out of   2 | elapsed:   16.2s finished\n",
      "[Parallel(n_jobs=2)]: Using backend LokyBackend with 2 concurrent workers.\n",
      "[Parallel(n_jobs=2)]: Done   2 out of   2 | elapsed:   16.3s remaining:    0.0s\n",
      "[Parallel(n_jobs=2)]: Done   2 out of   2 | elapsed:   16.3s finished\n",
      "[Parallel(n_jobs=2)]: Using backend LokyBackend with 2 concurrent workers.\n",
      "[Parallel(n_jobs=2)]: Done   2 out of   2 | elapsed:   16.2s remaining:    0.0s\n",
      "[Parallel(n_jobs=2)]: Done   2 out of   2 | elapsed:   16.2s finished\n",
      "[Parallel(n_jobs=2)]: Using backend LokyBackend with 2 concurrent workers.\n",
      "[Parallel(n_jobs=2)]: Done   2 out of   2 | elapsed:   16.3s remaining:    0.0s\n",
      "[Parallel(n_jobs=2)]: Done   2 out of   2 | elapsed:   16.3s finished\n",
      "[Parallel(n_jobs=2)]: Using backend LokyBackend with 2 concurrent workers.\n",
      "[Parallel(n_jobs=2)]: Done   2 out of   2 | elapsed:   16.2s remaining:    0.0s\n",
      "[Parallel(n_jobs=2)]: Done   2 out of   2 | elapsed:   16.2s finished\n",
      "[Parallel(n_jobs=2)]: Using backend LokyBackend with 2 concurrent workers.\n",
      "[Parallel(n_jobs=2)]: Done   2 out of   2 | elapsed:   16.5s remaining:    0.0s\n",
      "[Parallel(n_jobs=2)]: Done   2 out of   2 | elapsed:   16.5s finished\n",
      "[Parallel(n_jobs=2)]: Using backend LokyBackend with 2 concurrent workers.\n",
      "[Parallel(n_jobs=2)]: Done   2 out of   2 | elapsed:   16.2s remaining:    0.0s\n",
      "[Parallel(n_jobs=2)]: Done   2 out of   2 | elapsed:   16.2s finished\n",
      "[Parallel(n_jobs=2)]: Using backend LokyBackend with 2 concurrent workers.\n",
      "[Parallel(n_jobs=2)]: Done   2 out of   2 | elapsed:   16.2s remaining:    0.0s\n",
      "[Parallel(n_jobs=2)]: Done   2 out of   2 | elapsed:   16.2s finished\n",
      "[Parallel(n_jobs=2)]: Using backend LokyBackend with 2 concurrent workers.\n",
      "[Parallel(n_jobs=2)]: Done   2 out of   2 | elapsed:   16.1s remaining:    0.0s\n",
      "[Parallel(n_jobs=2)]: Done   2 out of   2 | elapsed:   16.1s finished\n",
      "[Parallel(n_jobs=2)]: Using backend LokyBackend with 2 concurrent workers.\n",
      "[Parallel(n_jobs=2)]: Done   2 out of   2 | elapsed:   16.1s remaining:    0.0s\n",
      "[Parallel(n_jobs=2)]: Done   2 out of   2 | elapsed:   16.1s finished\n",
      "[Parallel(n_jobs=2)]: Using backend LokyBackend with 2 concurrent workers.\n",
      "[Parallel(n_jobs=2)]: Done   2 out of   2 | elapsed:   16.2s remaining:    0.0s\n",
      "[Parallel(n_jobs=2)]: Done   2 out of   2 | elapsed:   16.2s finished\n",
      "[Parallel(n_jobs=2)]: Using backend LokyBackend with 2 concurrent workers.\n",
      "[Parallel(n_jobs=2)]: Done   2 out of   2 | elapsed:   16.2s remaining:    0.0s\n",
      "[Parallel(n_jobs=2)]: Done   2 out of   2 | elapsed:   16.2s finished\n",
      "[Parallel(n_jobs=2)]: Using backend LokyBackend with 2 concurrent workers.\n",
      "[Parallel(n_jobs=2)]: Done   2 out of   2 | elapsed:   16.2s remaining:    0.0s\n",
      "[Parallel(n_jobs=2)]: Done   2 out of   2 | elapsed:   16.2s finished\n",
      "[Parallel(n_jobs=2)]: Using backend LokyBackend with 2 concurrent workers.\n",
      "[Parallel(n_jobs=2)]: Done   2 out of   2 | elapsed:   16.4s remaining:    0.0s\n",
      "[Parallel(n_jobs=2)]: Done   2 out of   2 | elapsed:   16.4s finished\n",
      "[Parallel(n_jobs=2)]: Using backend LokyBackend with 2 concurrent workers.\n",
      "[Parallel(n_jobs=2)]: Done   2 out of   2 | elapsed:   16.1s remaining:    0.0s\n",
      "[Parallel(n_jobs=2)]: Done   2 out of   2 | elapsed:   16.1s finished\n",
      "[Parallel(n_jobs=2)]: Using backend LokyBackend with 2 concurrent workers.\n",
      "[Parallel(n_jobs=2)]: Done   2 out of   2 | elapsed:   16.5s remaining:    0.0s\n",
      "[Parallel(n_jobs=2)]: Done   2 out of   2 | elapsed:   16.5s finished\n",
      "[Parallel(n_jobs=2)]: Using backend LokyBackend with 2 concurrent workers.\n",
      "[Parallel(n_jobs=2)]: Done   2 out of   2 | elapsed:   16.2s remaining:    0.0s\n",
      "[Parallel(n_jobs=2)]: Done   2 out of   2 | elapsed:   16.2s finished\n",
      "[Parallel(n_jobs=2)]: Using backend LokyBackend with 2 concurrent workers.\n",
      "[Parallel(n_jobs=2)]: Done   2 out of   2 | elapsed:   16.5s remaining:    0.0s\n",
      "[Parallel(n_jobs=2)]: Done   2 out of   2 | elapsed:   16.5s finished\n",
      "[Parallel(n_jobs=2)]: Using backend LokyBackend with 2 concurrent workers.\n"
     ]
    },
    {
     "name": "stdout",
     "output_type": "stream",
     "text": [
      "[{'fit_time': array([12.39812803, 12.48864126]), 'score_time': array([3.61917925, 3.59123516]), 'test_neg_mean_squared_error': array([-0.16538133, -0.16251826]), 'test_r2': array([0.7034385 , 0.70710957]), 'test_max_error': array([-2.73555823, -1.99784587])}, {'fit_time': array([12.56982327, 12.63720918]), 'score_time': array([3.60112262, 3.63596678]), 'test_neg_mean_squared_error': array([-0.16536861, -0.16250751]), 'test_r2': array([0.70346131, 0.70712895]), 'test_max_error': array([-2.73636183, -1.99765784])}, {'fit_time': array([12.60814309, 12.76853108]), 'score_time': array([3.6177752, 3.5667572]), 'test_neg_mean_squared_error': array([-0.16535616, -0.16249701]), 'test_r2': array([0.70348363, 0.70714787]), 'test_max_error': array([-2.73715691, -1.9974688 ])}, {'fit_time': array([12.64561844, 12.47361565]), 'score_time': array([3.57506061, 3.61725688]), 'test_neg_mean_squared_error': array([-0.16534398, -0.16248676]), 'test_r2': array([0.70350547, 0.70716634]), 'test_max_error': array([-2.73794364, -1.99727881])}, {'fit_time': array([12.52356529, 12.44227338]), 'score_time': array([3.63393235, 3.63154864]), 'test_neg_mean_squared_error': array([-0.16533207, -0.16247676]), 'test_r2': array([0.70352683, 0.70718437]), 'test_max_error': array([-2.73872219, -1.99708793])}, {'fit_time': array([12.50138187, 12.77159333]), 'score_time': array([3.57651281, 3.55244517]), 'test_neg_mean_squared_error': array([-0.16532041, -0.16246699]), 'test_r2': array([0.70354773, 0.70720198]), 'test_max_error': array([-2.73949271, -1.99689619])}, {'fit_time': array([12.52898741, 12.56426573]), 'score_time': array([3.63898945, 3.65222812]), 'test_neg_mean_squared_error': array([-0.16530901, -0.16245745]), 'test_r2': array([0.70356818, 0.70721917]), 'test_max_error': array([-2.74025537, -1.99670366])}, {'fit_time': array([12.48843622, 12.69158697]), 'score_time': array([3.64142895, 3.51572609]), 'test_neg_mean_squared_error': array([-0.16529785, -0.16244813]), 'test_r2': array([0.7035882 , 0.70723596]), 'test_max_error': array([-2.74101031, -1.99651038])}, {'fit_time': array([12.48237205, 12.54928589]), 'score_time': array([3.64068723, 3.60933614]), 'test_neg_mean_squared_error': array([-0.16528693, -0.16243903]), 'test_r2': array([0.70360778, 0.70725236]), 'test_max_error': array([-2.7417577 , -1.99631639])}, {'fit_time': array([12.58354974, 12.67614484]), 'score_time': array([3.62024641, 3.59485769]), 'test_neg_mean_squared_error': array([-0.16527624, -0.16243015]), 'test_r2': array([0.70362694, 0.70726837]), 'test_max_error': array([-2.74249767, -1.99612174])}, {'fit_time': array([12.69557977, 12.63269567]), 'score_time': array([3.63849211, 3.63224912]), 'test_neg_mean_squared_error': array([-0.16526578, -0.16242147]), 'test_r2': array([0.70364569, 0.707284  ]), 'test_max_error': array([-2.74323036, -1.99592647])}, {'fit_time': array([12.50846076, 12.48212075]), 'score_time': array([3.63562679, 3.5926156 ]), 'test_neg_mean_squared_error': array([-0.16525555, -0.162413  ]), 'test_r2': array([0.70366405, 0.70729927]), 'test_max_error': array([-2.74395591, -1.99573062])}, {'fit_time': array([12.46727157, 12.55555439]), 'score_time': array([3.62675357, 3.65991116]), 'test_neg_mean_squared_error': array([-0.16524553, -0.16240472]), 'test_r2': array([0.70368201, 0.70731419]), 'test_max_error': array([-2.74467446, -1.99553422])}, {'fit_time': array([12.29949379, 12.52908444]), 'score_time': array([3.65773559, 3.56097698]), 'test_neg_mean_squared_error': array([-0.16523573, -0.16239664]), 'test_r2': array([0.70369958, 0.70732875]), 'test_max_error': array([-2.74538613, -1.99533733])}, {'fit_time': array([12.36975789, 12.51768637]), 'score_time': array([3.57834983, 3.59441042]), 'test_neg_mean_squared_error': array([-0.16522614, -0.16238875]), 'test_r2': array([0.70371679, 0.70734298]), 'test_max_error': array([-2.74609106, -1.99513996])}, {'fit_time': array([13.02198648, 12.97806406]), 'score_time': array([3.69073176, 3.71988821]), 'test_neg_mean_squared_error': array([-0.16521675, -0.16238104]), 'test_r2': array([0.70373362, 0.70735687]), 'test_max_error': array([-2.74678936, -1.99494216])}, {'fit_time': array([12.4089601 , 12.62826419]), 'score_time': array([3.6442039 , 3.51315546]), 'test_neg_mean_squared_error': array([-0.16520756, -0.16237351]), 'test_r2': array([0.7037501 , 0.70737044]), 'test_max_error': array([-2.74748116, -1.99474395])}, {'fit_time': array([12.95270753, 12.34841156]), 'score_time': array([3.4717114 , 3.67764568]), 'test_neg_mean_squared_error': array([-0.16519856, -0.16236616]), 'test_r2': array([0.70376623, 0.70738369]), 'test_max_error': array([-2.74816658, -1.99454538])}, {'fit_time': array([12.62596107, 12.38976097]), 'score_time': array([3.52452636, 3.58612943]), 'test_neg_mean_squared_error': array([-0.16518976, -0.16235898]), 'test_r2': array([0.70378202, 0.70739663]), 'test_max_error': array([-2.74884572, -1.99434646])}, {'fit_time': array([12.5972383 , 12.45605445]), 'score_time': array([3.60757518, 3.62589788]), 'test_neg_mean_squared_error': array([-0.16518115, -0.16235196]), 'test_r2': array([0.70379747, 0.70740927]), 'test_max_error': array([-2.7495187 , -1.99414724])}, {'fit_time': array([12.41350889, 12.49126506]), 'score_time': array([3.62641287, 3.60758996]), 'test_neg_mean_squared_error': array([-0.16517271, -0.16234511]), 'test_r2': array([0.70381259, 0.70742162]), 'test_max_error': array([-2.75018563, -1.99394773])}, {'fit_time': array([12.54836345, 12.47679901]), 'score_time': array([3.59884858, 3.62545848]), 'test_neg_mean_squared_error': array([-0.16516446, -0.16233842]), 'test_r2': array([0.70382739, 0.70743367]), 'test_max_error': array([-2.75084661, -1.99374796])}, {'fit_time': array([12.71497464, 12.52603316]), 'score_time': array([3.5790143 , 3.68369079]), 'test_neg_mean_squared_error': array([-0.16515638, -0.16233189]), 'test_r2': array([0.70384187, 0.70744545]), 'test_max_error': array([-2.75150175, -1.99354797])}, {'fit_time': array([12.43643641, 12.59669018]), 'score_time': array([3.69267917, 3.59604788]), 'test_neg_mean_squared_error': array([-0.16514848, -0.16232551]), 'test_r2': array([0.70385605, 0.70745694]), 'test_max_error': array([-2.75215115, -1.99334777])}, {'fit_time': array([12.66084671, 12.60435534]), 'score_time': array([3.66069269, 3.63935232]), 'test_neg_mean_squared_error': array([-0.16514074, -0.16231928]), 'test_r2': array([0.70386992, 0.70746817]), 'test_max_error': array([-2.7527949 , -1.99314739])}, {'fit_time': array([12.63080478, 12.42768431]), 'score_time': array([3.51780391, 3.60266304]), 'test_neg_mean_squared_error': array([-0.16513317, -0.1623132 ]), 'test_r2': array([0.7038835 , 0.70747913]), 'test_max_error': array([-2.75343311, -1.99294685])}, {'fit_time': array([12.70847273, 12.71054983]), 'score_time': array([3.73535585, 3.73588872]), 'test_neg_mean_squared_error': array([-0.16512576, -0.16230726]), 'test_r2': array([0.70389679, 0.70748984]), 'test_max_error': array([-2.75406586, -1.99274618])}, {'fit_time': array([12.44415879, 12.48469901]), 'score_time': array([3.63030457, 3.64775944]), 'test_neg_mean_squared_error': array([-0.1651185 , -0.16230146]), 'test_r2': array([0.7039098 , 0.70750029]), 'test_max_error': array([-2.75469325, -1.99254539])}, {'fit_time': array([12.60371828, 12.45649886]), 'score_time': array([3.58765578, 3.597821  ]), 'test_neg_mean_squared_error': array([-0.16511141, -0.1622958 ]), 'test_r2': array([0.70392252, 0.70751049]), 'test_max_error': array([-2.75531537, -1.99234451])}, {'fit_time': array([12.57635021, 12.41265512]), 'score_time': array([3.55322337, 3.65242004]), 'test_neg_mean_squared_error': array([-0.16510446, -0.16229027]), 'test_r2': array([0.70393498, 0.70752046]), 'test_max_error': array([-2.7559323 , -1.99214355])}, {'fit_time': array([12.43282104, 12.4282701 ]), 'score_time': array([3.67060876, 3.6054008 ]), 'test_neg_mean_squared_error': array([-0.16509766, -0.16228487]), 'test_r2': array([0.70394716, 0.70753018]), 'test_max_error': array([-2.75654413, -1.99194254])}, {'fit_time': array([12.55992556, 12.48805404]), 'score_time': array([3.60622454, 3.64281011]), 'test_neg_mean_squared_error': array([-0.16509101, -0.16227961]), 'test_r2': array([0.70395909, 0.70753968]), 'test_max_error': array([-2.75715094, -1.99174149])}, {'fit_time': array([12.49465609, 12.61749697]), 'score_time': array([3.60665083, 3.5737977 ]), 'test_neg_mean_squared_error': array([-0.16508451, -0.16227446]), 'test_r2': array([0.70397076, 0.70754894]), 'test_max_error': array([-2.75775281, -1.99154042])}, {'fit_time': array([12.40625525, 12.61907244]), 'score_time': array([3.63018298, 3.54464865]), 'test_neg_mean_squared_error': array([-0.16507814, -0.16226945]), 'test_r2': array([0.70398217, 0.70755799]), 'test_max_error': array([-2.75834982, -1.99133934])}, {'fit_time': array([12.70658278, 12.6861999 ]), 'score_time': array([3.6729784 , 3.63764334]), 'test_neg_mean_squared_error': array([-0.16507191, -0.16226455]), 'test_r2': array([0.70399334, 0.70756681]), 'test_max_error': array([-2.75894205, -1.99113828])}, {'fit_time': array([12.33640671, 12.55890536]), 'score_time': array([3.62683415, 3.50907254]), 'test_neg_mean_squared_error': array([-0.16506582, -0.16225977]), 'test_r2': array([0.70400427, 0.70757543]), 'test_max_error': array([-2.75952958, -1.99093725])}, {'fit_time': array([13.00741315, 12.73764825]), 'score_time': array([3.52264738, 3.64954472]), 'test_neg_mean_squared_error': array([-0.16505986, -0.16225511]), 'test_r2': array([0.70401496, 0.70758383]), 'test_max_error': array([-2.76011248, -1.99073626])}, {'fit_time': array([12.62829328, 12.56439185]), 'score_time': array([3.59942079, 3.6104455 ]), 'test_neg_mean_squared_error': array([-0.16505403, -0.16225056]), 'test_r2': array([0.70402542, 0.70759203]), 'test_max_error': array([-2.76069082, -1.99053533])}, {'fit_time': array([12.82158208, 12.65189219]), 'score_time': array([3.61383295, 3.67475152]), 'test_neg_mean_squared_error': array([-0.16504832, -0.16224612]), 'test_r2': array([0.70403565, 0.70760003]), 'test_max_error': array([-2.76126467, -1.99033447])}, {'fit_time': array([12.60389376, 12.60469913]), 'score_time': array([3.67766404, 3.72055221]), 'test_neg_mean_squared_error': array([-0.16504274, -0.16224179]), 'test_r2': array([0.70404565, 0.70760783]), 'test_max_error': array([-2.7618341, -1.9901337])}]\n"
     ]
    },
    {
     "name": "stderr",
     "output_type": "stream",
     "text": [
      "[Parallel(n_jobs=2)]: Done   2 out of   2 | elapsed:   16.3s remaining:    0.0s\n",
      "[Parallel(n_jobs=2)]: Done   2 out of   2 | elapsed:   16.3s finished\n"
     ]
    }
   ],
   "source": [
    "#With winsorized data & optimized - not a real improvement for computational time\n",
    "#Kernelt Poly_3\n",
    "def kridgeInvestigate(alpha, cv=2):\n",
    "\n",
    "  # Find what sort of magnitude we should be using\n",
    "  kridge = KernelRidge(alpha=alpha, kernel='poly', degree=3, kernel_params={'interaction_only': True})\n",
    "  kridgepipe = Pipeline([('preprocessor', preprocessor), ('regressor', kridge)])\n",
    "  return cross_validate(kridgepipe, X, y, scoring=scorers, cv=cv, n_jobs=2, pre_dispatch=4, verbose=True)\n",
    "\n",
    "alphas = np.linspace(0.25, 0.35, 40)\n",
    "kridges = [kridgeInvestigate(a) for a in alphas ]\n",
    "print(kridges)"
   ]
  },
  {
   "cell_type": "code",
   "execution_count": 64,
   "metadata": {},
   "outputs": [
    {
     "name": "stderr",
     "output_type": "stream",
     "text": [
      "[Parallel(n_jobs=2)]: Using backend LokyBackend with 2 concurrent workers.\n",
      "[Parallel(n_jobs=2)]: Done   2 out of   2 | elapsed:   11.7s remaining:    0.0s\n",
      "[Parallel(n_jobs=2)]: Done   2 out of   2 | elapsed:   11.7s finished\n",
      "[Parallel(n_jobs=2)]: Using backend LokyBackend with 2 concurrent workers.\n",
      "[Parallel(n_jobs=2)]: Done   2 out of   2 | elapsed:   10.6s remaining:    0.0s\n",
      "[Parallel(n_jobs=2)]: Done   2 out of   2 | elapsed:   10.6s finished\n",
      "[Parallel(n_jobs=2)]: Using backend LokyBackend with 2 concurrent workers.\n",
      "[Parallel(n_jobs=2)]: Done   2 out of   2 | elapsed:   10.7s remaining:    0.0s\n",
      "[Parallel(n_jobs=2)]: Done   2 out of   2 | elapsed:   10.7s finished\n",
      "[Parallel(n_jobs=2)]: Using backend LokyBackend with 2 concurrent workers.\n",
      "[Parallel(n_jobs=2)]: Done   2 out of   2 | elapsed:   10.6s remaining:    0.0s\n",
      "[Parallel(n_jobs=2)]: Done   2 out of   2 | elapsed:   10.6s finished\n"
     ]
    }
   ],
   "source": [
    "#With winsoirzed data - seems to be \"best\"\n",
    "# We only look at the interaction terms, no 'power terms'\n",
    "kridgepipes = []\n",
    "def kridgeInvestigate(alpha, cv=2):\n",
    "\n",
    "  # Find what sort of magnitude we should be using\n",
    "  kridge = KernelRidge(alpha=alpha, kernel='poly', degree=2, kernel_params={'interaction_only': True})\n",
    "  kridgepipe_ = Pipeline([('preprocessor', preprocessor), ('regressor', kridge)])\n",
    "  kridgepipes.append(kridgepipe_)\n",
    "  return cross_validate(kridgepipe_, X, y, scoring=scorers, cv=cv, n_jobs=2, pre_dispatch=4, verbose=True)\n",
    "\n",
    "kridges = [kridgeInvestigate(0.065),\n",
    "           kridgeInvestigate(0.07),\n",
    "           kridgeInvestigate(0.075),\n",
    "           kridgeInvestigate(0.08)]\n",
    "\n",
    "\n"
   ]
  },
  {
   "cell_type": "code",
   "execution_count": 65,
   "metadata": {},
   "outputs": [
    {
     "data": {
      "text/plain": [
       "[{'fit_time': array([ 9.62606549, 10.0358932 ]),\n",
       "  'score_time': array([0.90346599, 0.72003579]),\n",
       "  'test_neg_mean_squared_error': array([-0.16584373, -0.16292288]),\n",
       "  'test_r2': array([0.70260932, 0.70638037]),\n",
       "  'test_max_error': array([-2.70563973, -2.00968681])},\n",
       " {'fit_time': array([9.69785261, 9.88360453]),\n",
       "  'score_time': array([0.81076813, 0.73397827]),\n",
       "  'test_neg_mean_squared_error': array([-0.16572933, -0.16282247]),\n",
       "  'test_r2': array([0.70281446, 0.70656132]),\n",
       "  'test_max_error': array([-2.71154995, -2.00873789])},\n",
       " {'fit_time': array([9.79209137, 9.66922927]),\n",
       "  'score_time': array([0.86280823, 0.84408283]),\n",
       "  'test_neg_mean_squared_error': array([-0.16562937, -0.16273602]),\n",
       "  'test_r2': array([0.70299371, 0.70671712]),\n",
       "  'test_max_error': array([-2.71702865, -2.00773243])},\n",
       " {'fit_time': array([9.54997587, 9.73812842]),\n",
       "  'score_time': array([0.82961941, 0.85938883]),\n",
       "  'test_neg_mean_squared_error': array([-0.16554165, -0.16266128]),\n",
       "  'test_r2': array([0.70315102, 0.70685183]),\n",
       "  'test_max_error': array([-2.72213148, -2.00668759])}]"
      ]
     },
     "execution_count": 65,
     "metadata": {},
     "output_type": "execute_result"
    }
   ],
   "source": [
    "# The optimal kernel seems to be 0.065\n",
    "kridges"
   ]
  },
  {
   "cell_type": "markdown",
   "metadata": {},
   "source": [
    "# Combining regressions"
   ]
  },
  {
   "cell_type": "code",
   "execution_count": 68,
   "metadata": {},
   "outputs": [],
   "source": [
    "## Get non-winsorized data Prepare training data since NNs we want to be trained with greater data samples\n",
    "peruTraining = peru.copy(deep=True)\n",
    "peruTraining.dropna(axis='index', inplace=True)\n",
    "peruTraining.drop(['id_for_matlab', 'poor', 'hhid', 'training', 'percapitaconsumption', 'lncaphat_OLS', 'percapitahat_OLS'], axis='columns', inplace=True)\n",
    "peruTraining.head()\n",
    "y = peruTraining['lnpercapitaconsumption']\n",
    "X = peruTraining.drop('lnpercapitaconsumption', axis='columns')\n",
    "\n",
    "\n",
    "X_train, X_test, y_train, y_test = train_test_split(X, y, random_state=43, train_size=0.8)"
   ]
  },
  {
   "cell_type": "code",
   "execution_count": 69,
   "metadata": {},
   "outputs": [
    {
     "name": "stdout",
     "output_type": "stream",
     "text": [
      "stacked r2: 0.6748734011245243\n",
      "stacked explained_variance_score: 0.6754674169833541\n",
      "stacked max_error: 2.122143886670302\n",
      "stacked mean absolute error: 0.3272683525843267\n",
      "stacked mean squared error: 0.17759152126655056\n"
     ]
    }
   ],
   "source": [
    "#Random Forest, Logistic NN, KNNR, Ridge, Lasso as inputs for NN\n",
    "mlpcombine = MLPRegressor(hidden_layer_sizes=(5,), max_iter=1000, activation='relu')\n",
    "stackedRegr = StackingRegressor(estimators=[('rrfr', rrfr),  ('krdige', getRegressor(kridgepipes[1])), ('mlplogr',getRegressor(mlppipe)), ('knnr', getRegressor(knnrpipe)), ('ridge', getRegressor(ridgepipe)), ('lasso', getRegressor(lassopipe))], final_estimator=mlpcombine, n_jobs=2, passthrough=False)\n",
    "stackedpipe = Pipeline([('preprocessor', preprocessor), ('regressor', stackedRegr)])\n",
    "stackedpipe.fit(X_train, y_train)\n",
    "print_all_metrics(\"stacked\", y_test, stackedpipe.predict(X_test))"
   ]
  },
  {
   "cell_type": "code",
   "execution_count": 70,
   "metadata": {},
   "outputs": [
    {
     "name": "stdout",
     "output_type": "stream",
     "text": [
      "stacked r2: 0.6978208931445924\n",
      "stacked explained_variance_score: 0.6978214256807085\n",
      "stacked max_error: 2.1343640792070655\n",
      "stacked mean absolute error: 0.31365134425876423\n",
      "stacked mean squared error: 0.16505708074033343\n"
     ]
    }
   ],
   "source": [
    "# Adjusting NN to only \"meaningful\" input regressions\n",
    "#Not overfitting\n",
    "mlpcombine = MLPRegressor(hidden_layer_sizes=(3,), max_iter=1000, activation='logistic')\n",
    "stackedRegr = StackingRegressor(estimators=[('mlplogr',getRegressor(mlppipe)), ('knnr', getRegressor(knnrpipe)), ('krdige', getRegressor(kridgepipes[1])), ('ridge', getRegressor(ridgepipe))], final_estimator=mlpcombine, n_jobs=2)\n",
    "stackedpipe = Pipeline([('preprocessor', preprocessor), ('regressor', stackedRegr)])\n",
    "stackedpipe.fit(X_train, y_train, )\n",
    "print_all_metrics(\"stacked\", y_test, stackedpipe.predict(X_test))"
   ]
  },
  {
   "cell_type": "code",
   "execution_count": 71,
   "metadata": {},
   "outputs": [
    {
     "name": "stdout",
     "output_type": "stream",
     "text": [
      "stacked r2: 0.7031900286096736\n",
      "stacked explained_variance_score: 0.7033722344612495\n",
      "stacked max_error: 2.1570760652711964\n",
      "stacked mean absolute error: 0.3115731226094416\n",
      "stacked mean squared error: 0.1621243371923496\n"
     ]
    }
   ],
   "source": [
    "# Stack all regressions instead of using a NN\n",
    "# Passtrhough = False, only the predictions of estimators will be used as training data for final_estimator\n",
    "#default 5-fold cross validation\n",
    "# Final estimator: Ridge on the outputs of the other estimators\n",
    "stackedRegr = StackingRegressor(estimators=[('rrfr', rrfr),  ('mlplogr',getRegressor(mlppipe)), ('knnr', getRegressor(knnrpipe)), ('krdige', getRegressor(kridgepipes[1])), ('ridge', getRegressor(ridgepipe)), ('lasso', getRegressor(lassopipe))], n_jobs=2, passthrough=True)\n",
    "stackedpipe = Pipeline([('preprocessor', preprocessor), ('regressor', stackedRegr)])\n",
    "stackedpipe.fit(X_train, y_train)\n",
    "print_all_metrics(\"stacked\", y_test, stackedpipe.predict(X_test))"
   ]
  },
  {
   "cell_type": "code",
   "execution_count": 72,
   "metadata": {},
   "outputs": [
    {
     "name": "stdout",
     "output_type": "stream",
     "text": [
      "stacked r2: 0.7024105541927872\n",
      "stacked explained_variance_score: 0.7024138715922583\n",
      "stacked max_error: 2.155626929744166\n",
      "stacked mean absolute error: 0.3119531630528414\n",
      "stacked mean squared error: 0.16255010379514984\n"
     ]
    }
   ],
   "source": [
    "#Adjust stacking\n",
    "stackedRegr = StackingRegressor(estimators=[('mlplogr',getRegressor(mlppipe)), ('knnr', getRegressor(knnrpipe)), ('ridge', getRegressor(ridgepipe)), ('krdige', getRegressor(kridgepipes[1]))], n_jobs=2, passthrough=False)\n",
    "stackedpipe = Pipeline([('preprocessor', preprocessor), ('regressor', stackedRegr)])\n",
    "stackedpipe.fit(X_train, y_train)\n",
    "print_all_metrics(\"stacked\", y_test, stackedpipe.predict(X_test))"
   ]
  },
  {
   "cell_type": "markdown",
   "metadata": {},
   "source": [
    "# Output predictions \n",
    "\n",
    "The submission should be in a CSV file format, mimicking the format of the file peru_for_ml_course.csv, but should contain columns with variables named “id_for_matlab”, “hhid”, “training”, “lnpercapitaconsumption “, “groupprediction” in that order. The column “groupprediction” should contain group’s predictions. The other columns should be the same as with the original data file"
   ]
  },
  {
   "cell_type": "code",
   "execution_count": 73,
   "metadata": {
    "scrolled": true
   },
   "outputs": [],
   "source": [
    "outputCols = []\n",
    "peruPredict = peru.copy(deep=True)\n",
    "\n",
    "dontfittocolumns = ['lnpercapitaconsumption', 'id_for_matlab', 'poor', 'hhid', 'training', 'percapitaconsumption', 'lncaphat_OLS', 'percapitahat_OLS', *outputCols]\n",
    "peruPredict = peruPredict.dropna(subset=peruPredict.columns.drop(dontfittocolumns, errors='ignore'), axis=0)\n",
    "peruPredictX = peruPredict.drop(columns=dontfittocolumns, errors='ignore', inplace=False)"
   ]
  },
  {
   "cell_type": "code",
   "execution_count": 74,
   "metadata": {},
   "outputs": [],
   "source": [
    "#With/Without winsorizing\n",
    "winzorize = True\n",
    "\n",
    "peruTraining = peru.copy(deep=True)\n",
    "peruTraining.dropna(axis='index', inplace=True)\n",
    "peruTraining.drop(dontfittocolumns[1:], inplace=True, axis='columns')\n",
    "\n",
    "if (winzorize):\n",
    "    peruTraining['h_hhsize'].value_counts(dropna=False).sort_index(ascending = True)\n",
    "    winsorize(a=peruTraining['h_hhsize'], limits=[0., 0.05], inplace=True)\n",
    "y = peruTraining['lnpercapitaconsumption']\n",
    "X = peruTraining.drop('lnpercapitaconsumption', axis='columns')"
   ]
  },
  {
   "cell_type": "code",
   "execution_count": 75,
   "metadata": {},
   "outputs": [
    {
     "name": "stdout",
     "output_type": "stream",
     "text": [
      "Final, train and tested r2: 0.8084573314546286\n",
      "Final, train and tested explained_variance_score: 0.8092983819171045\n",
      "Final, train and tested max_error: 1.8619512896755213\n",
      "Final, train and tested mean absolute error: 0.25297334798314974\n",
      "Final, train and tested mean squared error: 0.10655814813315856\n"
     ]
    }
   ],
   "source": [
    "estimator = mlplogisticpipe\n",
    "outputCol = 'groupprediction'\n",
    "outputCols.append(outputCol)\n",
    "\n",
    "fittedEstimator = estimator.fit(X, y)\n",
    "print_all_metrics(\"Final, train and tested\", y, fittedEstimator.predict(X))\n",
    "\n",
    "predictedY = fittedEstimator.predict(peruPredictX)\n",
    "\n",
    "peruPredict[outputCol]  = predictedY"
   ]
  },
  {
   "cell_type": "code",
   "execution_count": 76,
   "metadata": {
    "scrolled": true
   },
   "outputs": [
    {
     "name": "stdout",
     "output_type": "stream",
     "text": [
      "Final, train and tested r2: 0.7244209519462511\n",
      "Final, train and tested explained_variance_score: 0.7245629556441129\n",
      "Final, train and tested max_error: 2.5386300466565874\n",
      "Final, train and tested mean absolute error: 0.3039543267346018\n",
      "Final, train and tested mean squared error: 0.15330888541917936\n"
     ]
    }
   ],
   "source": [
    "estimator = stackedpipe\n",
    "outputCol = 'groupprediction2'\n",
    "outputCols.append(outputCol)\n",
    "\n",
    "fittedEstimator = estimator.fit(X, y)\n",
    "print_all_metrics(\"Final, train and tested\", y, fittedEstimator.predict(X))\n",
    "\n",
    "predictedY = fittedEstimator.predict(peruPredictX)\n",
    "peruPredict[outputCol]  = predictedY"
   ]
  },
  {
   "cell_type": "code",
   "execution_count": 79,
   "metadata": {},
   "outputs": [
    {
     "name": "stdout",
     "output_type": "stream",
     "text": [
      "       lnpercapitaconsumption  d_fuel_other   d_fuel_wood   d_fuel_coal  \\\n",
      "count            22674.000000  45378.000000  45378.000000  45378.000000   \n",
      "mean                 5.849424      0.105910      0.312332      0.025056   \n",
      "std                  0.745882      0.307726      0.463450      0.156298   \n",
      "min                  2.110213      0.000000      0.000000      0.000000   \n",
      "25%                  5.335076      0.000000      0.000000      0.000000   \n",
      "50%                  5.870931      0.000000      0.000000      0.000000   \n",
      "75%                  6.354526      0.000000      1.000000      0.000000   \n",
      "max                  8.858051      1.000000      1.000000      1.000000   \n",
      "\n",
      "       d_fuel_kerosene    d_fuel_gas  d_fuel_electric   d_fuel_none  \\\n",
      "count     45378.000000  45378.000000     45378.000000  45378.000000   \n",
      "mean          0.004474      0.513465         0.007757      0.031006   \n",
      "std           0.066735      0.499824         0.087733      0.173336   \n",
      "min           0.000000      0.000000         0.000000      0.000000   \n",
      "25%           0.000000      0.000000         0.000000      0.000000   \n",
      "50%           0.000000      1.000000         0.000000      0.000000   \n",
      "75%           0.000000      1.000000         0.000000      0.000000   \n",
      "max           1.000000      1.000000         1.000000      1.000000   \n",
      "\n",
      "       d_water_other  d_water_river  ...      training  percapitaconsumption  \\\n",
      "count   45378.000000   45378.000000  ...  45378.000000          22674.000000   \n",
      "mean        0.041408       0.211600  ...      0.499669            458.471584   \n",
      "std         0.199234       0.408447  ...      0.500005            403.872663   \n",
      "min         0.000000       0.000000  ...      0.000000              8.250000   \n",
      "25%         0.000000       0.000000  ...      0.000000            207.488550   \n",
      "50%         0.000000       0.000000  ...      0.000000            354.578600   \n",
      "75%         0.000000       0.000000  ...      1.000000            575.089700   \n",
      "max         1.000000       1.000000  ...      1.000000           7030.769000   \n",
      "\n",
      "               poor      h_hhsize  id_for_matlab          hhid  lncaphat_OLS  \\\n",
      "count  45378.000000  45378.000000   45378.000000  4.537800e+04  45378.000000   \n",
      "mean       0.281943      4.022346   23143.157235  1.866664e+08      5.850041   \n",
      "std        0.449951      2.102584   13368.989425  1.114251e+08      0.605646   \n",
      "min        0.000000      1.000000       1.000000  1.010110e+05      4.434424   \n",
      "25%        0.000000      2.000000   11561.250000  8.970399e+07      5.332906   \n",
      "50%        0.000000      4.000000   23137.500000  1.822011e+08      5.871004   \n",
      "75%        1.000000      5.000000   34725.750000  2.815083e+08      6.306364   \n",
      "max        1.000000     20.000000   46305.000000  4.035098e+08      7.738163   \n",
      "\n",
      "       percapitahat_OLS  groupprediction  groupprediction2  \n",
      "count      45378.000000     45378.000000      45378.000000  \n",
      "mean         459.121087         5.867664          5.840419  \n",
      "std          293.660061         0.674500          0.632824  \n",
      "min          -57.498260         2.747125          4.317363  \n",
      "25%          235.941375         5.352257          5.316960  \n",
      "50%          404.708750         5.882317          5.857650  \n",
      "75%          611.242975         6.332445          6.286053  \n",
      "max         2132.654000         8.712286          8.104821  \n",
      "\n",
      "[8 rows x 83 columns]\n",
      "['id_for_matlab', 'poor', 'h_hhsize', 'percapitaconsumption', 'hhid', 'training', 'lnpercapitaconsumption', 'groupprediction', 'groupprediction2']\n"
     ]
    }
   ],
   "source": [
    "#Write out CSV\n",
    "finalOutputsCols = ['id_for_matlab', 'poor', 'h_hhsize', 'percapitaconsumption', 'hhid', 'training', 'lnpercapitaconsumption', *outputCols]\n",
    "print(peruPredict.describe())\n",
    "print(finalOutputsCols)\n",
    "outputfile = './peru_for_ml_course_predictions_boxyan.csv'\n",
    "peruOut = peruPredict.copy(deep=True)\n",
    "peruOut.reindex()\n",
    "peruOut.to_csv(path_or_buf=outputfile, columns=finalOutputsCols, header=True, index=False)\n",
    "\n"
   ]
  },
  {
   "cell_type": "code",
   "execution_count": 80,
   "metadata": {},
   "outputs": [
    {
     "data": {
      "text/plain": [
       "count    22674.000000\n",
       "mean         5.849424\n",
       "std          0.745882\n",
       "min          2.110213\n",
       "25%          5.335076\n",
       "50%          5.870931\n",
       "75%          6.354526\n",
       "max          8.858051\n",
       "Name: lnpercapitaconsumption, dtype: float64"
      ]
     },
     "execution_count": 80,
     "metadata": {},
     "output_type": "execute_result"
    }
   ],
   "source": [
    "y.describe()"
   ]
  },
  {
   "cell_type": "code",
   "execution_count": 56,
   "metadata": {},
   "outputs": [
    {
     "ename": "ModuleNotFoundError",
     "evalue": "No module named 'dill'",
     "output_type": "error",
     "traceback": [
      "\u001b[0;31m---------------------------------------------------------------------------\u001b[0m",
      "\u001b[0;31mModuleNotFoundError\u001b[0m                       Traceback (most recent call last)",
      "\u001b[0;32m<ipython-input-56-edf038076cd6>\u001b[0m in \u001b[0;36m<module>\u001b[0;34m()\u001b[0m\n\u001b[0;32m----> 1\u001b[0;31m \u001b[0;32mimport\u001b[0m \u001b[0mdill\u001b[0m\u001b[0;34m\u001b[0m\u001b[0;34m\u001b[0m\u001b[0m\n\u001b[0m\u001b[1;32m      2\u001b[0m \u001b[0mdill\u001b[0m\u001b[0;34m.\u001b[0m\u001b[0mdump_session\u001b[0m\u001b[0;34m(\u001b[0m\u001b[0;34m'notebook_env.db'\u001b[0m\u001b[0;34m)\u001b[0m\u001b[0;34m\u001b[0m\u001b[0;34m\u001b[0m\u001b[0m\n",
      "\u001b[0;31mModuleNotFoundError\u001b[0m: No module named 'dill'"
     ]
    }
   ],
   "source": [
    "import dill\n",
    "dill.dump_session('notebook_env.db')"
   ]
  },
  {
   "cell_type": "code",
   "execution_count": 1,
   "metadata": {},
   "outputs": [
    {
     "ename": "AttributeError",
     "evalue": "module 'IPython.core' has no attribute 'shadowns'",
     "output_type": "error",
     "traceback": [
      "\u001b[0;31m---------------------------------------------------------------------------\u001b[0m",
      "\u001b[0;31mAttributeError\u001b[0m                            Traceback (most recent call last)",
      "\u001b[0;32m<ipython-input-1-c20f3932f3ec>\u001b[0m in \u001b[0;36m<module>\u001b[0;34m\u001b[0m\n\u001b[1;32m      1\u001b[0m \u001b[0;32mimport\u001b[0m \u001b[0mdill\u001b[0m\u001b[0;34m\u001b[0m\u001b[0;34m\u001b[0m\u001b[0m\n\u001b[0;32m----> 2\u001b[0;31m \u001b[0mdill\u001b[0m\u001b[0;34m.\u001b[0m\u001b[0mload_session\u001b[0m\u001b[0;34m(\u001b[0m\u001b[0;34m'notebook_env.db'\u001b[0m\u001b[0;34m)\u001b[0m\u001b[0;34m\u001b[0m\u001b[0;34m\u001b[0m\u001b[0m\n\u001b[0m",
      "\u001b[0;32m~/.conda/envs/myroot/lib/python3.8/site-packages/dill/_dill.py\u001b[0m in \u001b[0;36mload_session\u001b[0;34m(filename, main, **kwds)\u001b[0m\n\u001b[1;32m    374\u001b[0m         \u001b[0munpickler\u001b[0m\u001b[0;34m.\u001b[0m\u001b[0m_main\u001b[0m \u001b[0;34m=\u001b[0m \u001b[0mmain\u001b[0m\u001b[0;34m\u001b[0m\u001b[0;34m\u001b[0m\u001b[0m\n\u001b[1;32m    375\u001b[0m         \u001b[0munpickler\u001b[0m\u001b[0;34m.\u001b[0m\u001b[0m_session\u001b[0m \u001b[0;34m=\u001b[0m \u001b[0;32mTrue\u001b[0m\u001b[0;34m\u001b[0m\u001b[0;34m\u001b[0m\u001b[0m\n\u001b[0;32m--> 376\u001b[0;31m         \u001b[0mmodule\u001b[0m \u001b[0;34m=\u001b[0m \u001b[0munpickler\u001b[0m\u001b[0;34m.\u001b[0m\u001b[0mload\u001b[0m\u001b[0;34m(\u001b[0m\u001b[0;34m)\u001b[0m\u001b[0;34m\u001b[0m\u001b[0;34m\u001b[0m\u001b[0m\n\u001b[0m\u001b[1;32m    377\u001b[0m         \u001b[0munpickler\u001b[0m\u001b[0;34m.\u001b[0m\u001b[0m_session\u001b[0m \u001b[0;34m=\u001b[0m \u001b[0;32mFalse\u001b[0m\u001b[0;34m\u001b[0m\u001b[0;34m\u001b[0m\u001b[0m\n\u001b[1;32m    378\u001b[0m         \u001b[0mmain\u001b[0m\u001b[0;34m.\u001b[0m\u001b[0m__dict__\u001b[0m\u001b[0;34m.\u001b[0m\u001b[0mupdate\u001b[0m\u001b[0;34m(\u001b[0m\u001b[0mmodule\u001b[0m\u001b[0;34m.\u001b[0m\u001b[0m__dict__\u001b[0m\u001b[0;34m)\u001b[0m\u001b[0;34m\u001b[0m\u001b[0;34m\u001b[0m\u001b[0m\n",
      "\u001b[0;32m~/.conda/envs/myroot/lib/python3.8/site-packages/dill/_dill.py\u001b[0m in \u001b[0;36mload\u001b[0;34m(self)\u001b[0m\n\u001b[1;32m    479\u001b[0m \u001b[0;34m\u001b[0m\u001b[0m\n\u001b[1;32m    480\u001b[0m     \u001b[0;32mdef\u001b[0m \u001b[0mload\u001b[0m\u001b[0;34m(\u001b[0m\u001b[0mself\u001b[0m\u001b[0;34m)\u001b[0m\u001b[0;34m:\u001b[0m \u001b[0;31m#NOTE: if settings change, need to update attributes\u001b[0m\u001b[0;34m\u001b[0m\u001b[0;34m\u001b[0m\u001b[0m\n\u001b[0;32m--> 481\u001b[0;31m         \u001b[0mobj\u001b[0m \u001b[0;34m=\u001b[0m \u001b[0mStockUnpickler\u001b[0m\u001b[0;34m.\u001b[0m\u001b[0mload\u001b[0m\u001b[0;34m(\u001b[0m\u001b[0mself\u001b[0m\u001b[0;34m)\u001b[0m\u001b[0;34m\u001b[0m\u001b[0;34m\u001b[0m\u001b[0m\n\u001b[0m\u001b[1;32m    482\u001b[0m         \u001b[0;32mif\u001b[0m \u001b[0mtype\u001b[0m\u001b[0;34m(\u001b[0m\u001b[0mobj\u001b[0m\u001b[0;34m)\u001b[0m\u001b[0;34m.\u001b[0m\u001b[0m__module__\u001b[0m \u001b[0;34m==\u001b[0m \u001b[0mgetattr\u001b[0m\u001b[0;34m(\u001b[0m\u001b[0m_main_module\u001b[0m\u001b[0;34m,\u001b[0m \u001b[0;34m'__name__'\u001b[0m\u001b[0;34m,\u001b[0m \u001b[0;34m'__main__'\u001b[0m\u001b[0;34m)\u001b[0m\u001b[0;34m:\u001b[0m\u001b[0;34m\u001b[0m\u001b[0;34m\u001b[0m\u001b[0m\n\u001b[1;32m    483\u001b[0m             \u001b[0;32mif\u001b[0m \u001b[0;32mnot\u001b[0m \u001b[0mself\u001b[0m\u001b[0;34m.\u001b[0m\u001b[0m_ignore\u001b[0m\u001b[0;34m:\u001b[0m\u001b[0;34m\u001b[0m\u001b[0;34m\u001b[0m\u001b[0m\n",
      "\u001b[0;32m~/.conda/envs/myroot/lib/python3.8/site-packages/dill/_dill.py\u001b[0m in \u001b[0;36m_import_module\u001b[0;34m(import_name, safe)\u001b[0m\n\u001b[1;32m    853\u001b[0m         \u001b[0;32melse\u001b[0m\u001b[0;34m:\u001b[0m\u001b[0;34m\u001b[0m\u001b[0;34m\u001b[0m\u001b[0m\n\u001b[1;32m    854\u001b[0m             \u001b[0;32mreturn\u001b[0m \u001b[0m__import__\u001b[0m\u001b[0;34m(\u001b[0m\u001b[0mimport_name\u001b[0m\u001b[0;34m)\u001b[0m\u001b[0;34m\u001b[0m\u001b[0;34m\u001b[0m\u001b[0m\n\u001b[0;32m--> 855\u001b[0;31m         \u001b[0;32mreturn\u001b[0m \u001b[0mgetattr\u001b[0m\u001b[0;34m(\u001b[0m\u001b[0m__import__\u001b[0m\u001b[0;34m(\u001b[0m\u001b[0mmodule\u001b[0m\u001b[0;34m,\u001b[0m \u001b[0;32mNone\u001b[0m\u001b[0;34m,\u001b[0m \u001b[0;32mNone\u001b[0m\u001b[0;34m,\u001b[0m \u001b[0;34m[\u001b[0m\u001b[0mobj\u001b[0m\u001b[0;34m]\u001b[0m\u001b[0;34m)\u001b[0m\u001b[0;34m,\u001b[0m \u001b[0mobj\u001b[0m\u001b[0;34m)\u001b[0m\u001b[0;34m\u001b[0m\u001b[0;34m\u001b[0m\u001b[0m\n\u001b[0m\u001b[1;32m    856\u001b[0m     \u001b[0;32mexcept\u001b[0m \u001b[0;34m(\u001b[0m\u001b[0mImportError\u001b[0m\u001b[0;34m,\u001b[0m \u001b[0mAttributeError\u001b[0m\u001b[0;34m)\u001b[0m\u001b[0;34m:\u001b[0m\u001b[0;34m\u001b[0m\u001b[0;34m\u001b[0m\u001b[0m\n\u001b[1;32m    857\u001b[0m         \u001b[0;32mif\u001b[0m \u001b[0msafe\u001b[0m\u001b[0;34m:\u001b[0m\u001b[0;34m\u001b[0m\u001b[0;34m\u001b[0m\u001b[0m\n",
      "\u001b[0;31mAttributeError\u001b[0m: module 'IPython.core' has no attribute 'shadowns'"
     ]
    }
   ],
   "source": [
    "import dill\n",
    "dill.load_session('notebook_env.db')"
   ]
  },
  {
   "cell_type": "code",
   "execution_count": 50,
   "metadata": {},
   "outputs": [
    {
     "data": {
      "text/plain": [
       "Pipeline(steps=[('preprocessor',\n",
       "                 ColumnTransformer(remainder='passthrough',\n",
       "                                   transformers=[('scaler',\n",
       "                                                  PowerTransformer(method='box-cox'),\n",
       "                                                  ['h_hhsize'])])),\n",
       "                ('regressor',\n",
       "                 MLPRegressor(activation='tanh', alpha=0.01, max_iter=50000,\n",
       "                              tol=1e-06))])"
      ]
     },
     "execution_count": 50,
     "metadata": {},
     "output_type": "execute_result"
    }
   ],
   "source": [
    "mlptanhpipe"
   ]
  },
  {
   "cell_type": "code",
   "execution_count": null,
   "metadata": {},
   "outputs": [],
   "source": []
  }
 ],
 "metadata": {
  "kernelspec": {
   "display_name": "Python 3",
   "language": "python",
   "name": "python3"
  },
  "language_info": {
   "codemirror_mode": {
    "name": "ipython",
    "version": 3
   },
   "file_extension": ".py",
   "mimetype": "text/x-python",
   "name": "python",
   "nbconvert_exporter": "python",
   "pygments_lexer": "ipython3",
   "version": "3.8.5"
  }
 },
 "nbformat": 4,
 "nbformat_minor": 4
}
